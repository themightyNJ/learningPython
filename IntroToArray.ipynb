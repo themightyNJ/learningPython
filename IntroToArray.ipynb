{
  "nbformat": 4,
  "nbformat_minor": 0,
  "metadata": {
    "colab": {
      "name": "IntroToArray.ipynb",
      "provenance": [],
      "collapsed_sections": []
    },
    "kernelspec": {
      "name": "python3",
      "display_name": "Python 3"
    }
  },
  "cells": [
    {
      "cell_type": "code",
      "metadata": {
        "id": "gInSCbKnMBkg",
        "colab_type": "code",
        "colab": {}
      },
      "source": [
        "from array import array"
      ],
      "execution_count": 0,
      "outputs": []
    },
    {
      "cell_type": "code",
      "metadata": {
        "id": "ivJy5BUyOqwC",
        "colab_type": "code",
        "outputId": "464c622b-8811-4b2a-d918-f41ff8a589fd",
        "colab": {
          "base_uri": "https://localhost:8080/",
          "height": 50
        }
      },
      "source": [
        "my_arr = array(\"i\",[1,-2,3,4,5])\n",
        "print(my_arr)\n",
        "print(type(my_arr))"
      ],
      "execution_count": 0,
      "outputs": [
        {
          "output_type": "stream",
          "text": [
            "array('i', [1, -2, 3, 4, 5])\n",
            "<class 'array.array'>\n"
          ],
          "name": "stdout"
        }
      ]
    },
    {
      "cell_type": "code",
      "metadata": {
        "id": "80GxH6QGPOyD",
        "colab_type": "code",
        "outputId": "dfc56b79-aad1-4a0f-c7b2-598fb910465b",
        "colab": {
          "base_uri": "https://localhost:8080/",
          "height": 34
        }
      },
      "source": [
        "for index in range(len(my_arr)):\n",
        "    print(my_arr[index], end = \" \")  "
      ],
      "execution_count": 0,
      "outputs": [
        {
          "output_type": "stream",
          "text": [
            "1 -2 3 4 5 "
          ],
          "name": "stdout"
        }
      ]
    },
    {
      "cell_type": "code",
      "metadata": {
        "id": "7DbQS384VMPp",
        "colab_type": "code",
        "colab": {}
      },
      "source": [
        "my_arr.insert(0,100)"
      ],
      "execution_count": 0,
      "outputs": []
    },
    {
      "cell_type": "code",
      "metadata": {
        "id": "TOMPr2FnVVmI",
        "colab_type": "code",
        "outputId": "94f11323-e147-461f-f023-1a2c0b01df13",
        "colab": {
          "base_uri": "https://localhost:8080/",
          "height": 34
        }
      },
      "source": [
        "my_arr"
      ],
      "execution_count": 0,
      "outputs": [
        {
          "output_type": "execute_result",
          "data": {
            "text/plain": [
              "array('i', [100, 1, -2, 3, 4, 5])"
            ]
          },
          "metadata": {
            "tags": []
          },
          "execution_count": 5
        }
      ]
    },
    {
      "cell_type": "code",
      "metadata": {
        "id": "hVWXMU4fV7cw",
        "colab_type": "code",
        "outputId": "72eb5963-e3cf-49ee-ceab-f91e2b3aad18",
        "colab": {
          "base_uri": "https://localhost:8080/",
          "height": 34
        }
      },
      "source": [
        "my_arr.index(-2)"
      ],
      "execution_count": 0,
      "outputs": [
        {
          "output_type": "execute_result",
          "data": {
            "text/plain": [
              "2"
            ]
          },
          "metadata": {
            "tags": []
          },
          "execution_count": 6
        }
      ]
    },
    {
      "cell_type": "code",
      "metadata": {
        "id": "-Gs18wqHWCXT",
        "colab_type": "code",
        "colab": {}
      },
      "source": [
        "my_arr.append(7)"
      ],
      "execution_count": 0,
      "outputs": []
    },
    {
      "cell_type": "code",
      "metadata": {
        "id": "80q7ZKQQWJ5g",
        "colab_type": "code",
        "outputId": "748e689c-7ab7-4a42-efa7-42c0a43e6617",
        "colab": {
          "base_uri": "https://localhost:8080/",
          "height": 34
        }
      },
      "source": [
        "my_arr"
      ],
      "execution_count": 0,
      "outputs": [
        {
          "output_type": "execute_result",
          "data": {
            "text/plain": [
              "array('i', [100, 1, -2, 3, 4, 5, 7])"
            ]
          },
          "metadata": {
            "tags": []
          },
          "execution_count": 8
        }
      ]
    },
    {
      "cell_type": "code",
      "metadata": {
        "id": "n2RRnUnnWNrY",
        "colab_type": "code",
        "outputId": "1befb002-efc2-44f1-f7cb-483d0c99e16f",
        "colab": {
          "base_uri": "https://localhost:8080/",
          "height": 34
        }
      },
      "source": [
        "my_arr[:4]"
      ],
      "execution_count": 0,
      "outputs": [
        {
          "output_type": "execute_result",
          "data": {
            "text/plain": [
              "array('i', [100, 1, -2, 3])"
            ]
          },
          "metadata": {
            "tags": []
          },
          "execution_count": 9
        }
      ]
    },
    {
      "cell_type": "code",
      "metadata": {
        "id": "3V99VXU-WhEx",
        "colab_type": "code",
        "colab": {}
      },
      "source": [
        "my_arr.remove(100)"
      ],
      "execution_count": 0,
      "outputs": []
    },
    {
      "cell_type": "code",
      "metadata": {
        "id": "hp5YE6zXXezW",
        "colab_type": "code",
        "outputId": "1ef9941f-9899-4521-aabd-699458a30ecb",
        "colab": {
          "base_uri": "https://localhost:8080/",
          "height": 34
        }
      },
      "source": [
        "my_arr"
      ],
      "execution_count": 0,
      "outputs": [
        {
          "output_type": "execute_result",
          "data": {
            "text/plain": [
              "array('i', [1, -2, 3, 4, 5, 7])"
            ]
          },
          "metadata": {
            "tags": []
          },
          "execution_count": 11
        }
      ]
    },
    {
      "cell_type": "code",
      "metadata": {
        "id": "aczJ2nWPXgMh",
        "colab_type": "code",
        "outputId": "640605f6-ddfc-4e0b-dfe1-c11886cc9192",
        "colab": {
          "base_uri": "https://localhost:8080/",
          "height": 34
        }
      },
      "source": [
        "my_arr.pop()"
      ],
      "execution_count": 0,
      "outputs": [
        {
          "output_type": "execute_result",
          "data": {
            "text/plain": [
              "7"
            ]
          },
          "metadata": {
            "tags": []
          },
          "execution_count": 12
        }
      ]
    },
    {
      "cell_type": "code",
      "metadata": {
        "id": "IxXs5HK0XsNE",
        "colab_type": "code",
        "outputId": "d573c374-8016-4d22-ad87-fb0305cb5fd5",
        "colab": {
          "base_uri": "https://localhost:8080/",
          "height": 34
        }
      },
      "source": [
        "my_arr.pop(1)"
      ],
      "execution_count": 0,
      "outputs": [
        {
          "output_type": "execute_result",
          "data": {
            "text/plain": [
              "-2"
            ]
          },
          "metadata": {
            "tags": []
          },
          "execution_count": 13
        }
      ]
    },
    {
      "cell_type": "code",
      "metadata": {
        "id": "SViE55e8Xv8Y",
        "colab_type": "code",
        "outputId": "91dad9e6-d90d-4bda-96ac-4b83e3d1f85e",
        "colab": {
          "base_uri": "https://localhost:8080/",
          "height": 34
        }
      },
      "source": [
        "my_arr"
      ],
      "execution_count": 0,
      "outputs": [
        {
          "output_type": "execute_result",
          "data": {
            "text/plain": [
              "array('i', [1, 3, 4, 5])"
            ]
          },
          "metadata": {
            "tags": []
          },
          "execution_count": 14
        }
      ]
    },
    {
      "cell_type": "code",
      "metadata": {
        "id": "RJDNZpFnXxnE",
        "colab_type": "code",
        "outputId": "54b09b93-808d-4750-ceb0-14b837945861",
        "colab": {
          "base_uri": "https://localhost:8080/",
          "height": 34
        }
      },
      "source": [
        "my_arr[2]"
      ],
      "execution_count": 0,
      "outputs": [
        {
          "output_type": "execute_result",
          "data": {
            "text/plain": [
              "4"
            ]
          },
          "metadata": {
            "tags": []
          },
          "execution_count": 15
        }
      ]
    },
    {
      "cell_type": "code",
      "metadata": {
        "id": "KfsBFYYbYAvo",
        "colab_type": "code",
        "colab": {}
      },
      "source": [
        "my_arr[2] = 24"
      ],
      "execution_count": 0,
      "outputs": []
    },
    {
      "cell_type": "code",
      "metadata": {
        "id": "s9yq0McoYD_r",
        "colab_type": "code",
        "outputId": "f33a17b4-0781-43ac-9534-9b752515bbe5",
        "colab": {
          "base_uri": "https://localhost:8080/",
          "height": 34
        }
      },
      "source": [
        "my_arr"
      ],
      "execution_count": 0,
      "outputs": [
        {
          "output_type": "execute_result",
          "data": {
            "text/plain": [
              "array('i', [1, 3, 24, 5])"
            ]
          },
          "metadata": {
            "tags": []
          },
          "execution_count": 17
        }
      ]
    },
    {
      "cell_type": "code",
      "metadata": {
        "id": "phujhwDYYFlD",
        "colab_type": "code",
        "colab": {}
      },
      "source": [
        "import numpy as np"
      ],
      "execution_count": 0,
      "outputs": []
    },
    {
      "cell_type": "code",
      "metadata": {
        "id": "_15NiVpeZCDi",
        "colab_type": "code",
        "colab": {}
      },
      "source": [
        "my_arr2 = np.array([1,2,3,4,5])"
      ],
      "execution_count": 0,
      "outputs": []
    },
    {
      "cell_type": "code",
      "metadata": {
        "id": "87dsIhIDZldM",
        "colab_type": "code",
        "outputId": "424b69df-f74b-4fa3-c77a-0a944d498c0e",
        "colab": {
          "base_uri": "https://localhost:8080/",
          "height": 34
        }
      },
      "source": [
        "my_arr2"
      ],
      "execution_count": 0,
      "outputs": [
        {
          "output_type": "execute_result",
          "data": {
            "text/plain": [
              "array([1, 2, 3, 4, 5])"
            ]
          },
          "metadata": {
            "tags": []
          },
          "execution_count": 20
        }
      ]
    },
    {
      "cell_type": "code",
      "metadata": {
        "id": "gM3F6adIaE8V",
        "colab_type": "code",
        "outputId": "b561559e-8d5a-4358-8acf-17289cf5dbc1",
        "colab": {
          "base_uri": "https://localhost:8080/",
          "height": 34
        }
      },
      "source": [
        "type(my_arr2)"
      ],
      "execution_count": 0,
      "outputs": [
        {
          "output_type": "execute_result",
          "data": {
            "text/plain": [
              "numpy.ndarray"
            ]
          },
          "metadata": {
            "tags": []
          },
          "execution_count": 21
        }
      ]
    },
    {
      "cell_type": "code",
      "metadata": {
        "id": "CaegVCmeaHCl",
        "colab_type": "code",
        "outputId": "7ffff265-6908-4808-932c-a65ce77a6d96",
        "colab": {
          "base_uri": "https://localhost:8080/",
          "height": 34
        }
      },
      "source": [
        "my_arr2.ndim"
      ],
      "execution_count": 0,
      "outputs": [
        {
          "output_type": "execute_result",
          "data": {
            "text/plain": [
              "1"
            ]
          },
          "metadata": {
            "tags": []
          },
          "execution_count": 22
        }
      ]
    },
    {
      "cell_type": "code",
      "metadata": {
        "id": "xxkndYiIaVvm",
        "colab_type": "code",
        "outputId": "f91eed2f-59c1-42c7-d821-5e5419aaf4fa",
        "colab": {
          "base_uri": "https://localhost:8080/",
          "height": 34
        }
      },
      "source": [
        "my_arr2[2]"
      ],
      "execution_count": 0,
      "outputs": [
        {
          "output_type": "execute_result",
          "data": {
            "text/plain": [
              "3"
            ]
          },
          "metadata": {
            "tags": []
          },
          "execution_count": 23
        }
      ]
    },
    {
      "cell_type": "code",
      "metadata": {
        "id": "EvqWnIBxaxdP",
        "colab_type": "code",
        "colab": {}
      },
      "source": [
        "my_arr3 = np.array(\n",
        "    [[1,2,3,4,5],\n",
        "    [6,7,8,9,10]]\n",
        ")"
      ],
      "execution_count": 0,
      "outputs": []
    },
    {
      "cell_type": "code",
      "metadata": {
        "id": "N4aLmgi8bKC2",
        "colab_type": "code",
        "outputId": "33ec0028-1962-47b8-a580-6112ad31b668",
        "colab": {
          "base_uri": "https://localhost:8080/",
          "height": 50
        }
      },
      "source": [
        "my_arr3"
      ],
      "execution_count": 0,
      "outputs": [
        {
          "output_type": "execute_result",
          "data": {
            "text/plain": [
              "array([[ 1,  2,  3,  4,  5],\n",
              "       [ 6,  7,  8,  9, 10]])"
            ]
          },
          "metadata": {
            "tags": []
          },
          "execution_count": 25
        }
      ]
    },
    {
      "cell_type": "code",
      "metadata": {
        "id": "977KirsbbMX4",
        "colab_type": "code",
        "outputId": "9522fda9-07a2-4cd1-8cd2-037101826e20",
        "colab": {
          "base_uri": "https://localhost:8080/",
          "height": 34
        }
      },
      "source": [
        "my_arr3.ndim"
      ],
      "execution_count": 0,
      "outputs": [
        {
          "output_type": "execute_result",
          "data": {
            "text/plain": [
              "2"
            ]
          },
          "metadata": {
            "tags": []
          },
          "execution_count": 26
        }
      ]
    },
    {
      "cell_type": "code",
      "metadata": {
        "id": "GADTb-9NbP-s",
        "colab_type": "code",
        "outputId": "ac7838f7-4047-4aad-8b12-d3bbc354d376",
        "colab": {
          "base_uri": "https://localhost:8080/",
          "height": 34
        }
      },
      "source": [
        "my_arr3[0][1]"
      ],
      "execution_count": 0,
      "outputs": [
        {
          "output_type": "execute_result",
          "data": {
            "text/plain": [
              "2"
            ]
          },
          "metadata": {
            "tags": []
          },
          "execution_count": 27
        }
      ]
    },
    {
      "cell_type": "code",
      "metadata": {
        "id": "WbXcx82QbYXn",
        "colab_type": "code",
        "outputId": "4366825a-27c3-46d0-dfbc-2962c94ac5d8",
        "colab": {
          "base_uri": "https://localhost:8080/",
          "height": 34
        }
      },
      "source": [
        "my_arr3[0][4]"
      ],
      "execution_count": 0,
      "outputs": [
        {
          "output_type": "execute_result",
          "data": {
            "text/plain": [
              "5"
            ]
          },
          "metadata": {
            "tags": []
          },
          "execution_count": 28
        }
      ]
    },
    {
      "cell_type": "code",
      "metadata": {
        "id": "sXn4tL73bpTi",
        "colab_type": "code",
        "outputId": "e70d2252-6a45-4ecf-baf2-59df62e08441",
        "colab": {
          "base_uri": "https://localhost:8080/",
          "height": 34
        }
      },
      "source": [
        "my_arr3[1][3]"
      ],
      "execution_count": 0,
      "outputs": [
        {
          "output_type": "execute_result",
          "data": {
            "text/plain": [
              "9"
            ]
          },
          "metadata": {
            "tags": []
          },
          "execution_count": 29
        }
      ]
    },
    {
      "cell_type": "code",
      "metadata": {
        "id": "8-2jZpZl_Mce",
        "colab_type": "code",
        "colab": {}
      },
      "source": [
        "thr_arr = np.array(\n",
        "    [\n",
        "     [[1,2,3],[10,20,30],[100,200,300]],\n",
        "     [[4,5,6],[40,50,60],[400,500,600]],\n",
        "     [[7,8,9],[70,80,90],[700,800,900]]\n",
        "    ], dtype=float\n",
        ")"
      ],
      "execution_count": 0,
      "outputs": []
    },
    {
      "cell_type": "code",
      "metadata": {
        "id": "tsDNY7L1_8K3",
        "colab_type": "code",
        "outputId": "14c6ddad-e6b2-4489-b521-bf071973f475",
        "colab": {
          "base_uri": "https://localhost:8080/",
          "height": 34
        }
      },
      "source": [
        "thr_arr.ndim"
      ],
      "execution_count": 0,
      "outputs": [
        {
          "output_type": "execute_result",
          "data": {
            "text/plain": [
              "3"
            ]
          },
          "metadata": {
            "tags": []
          },
          "execution_count": 31
        }
      ]
    },
    {
      "cell_type": "code",
      "metadata": {
        "id": "5KDy__by_-eL",
        "colab_type": "code",
        "outputId": "8d44ac76-1da0-4f65-ad68-8cceb31bbb46",
        "colab": {
          "base_uri": "https://localhost:8080/",
          "height": 34
        }
      },
      "source": [
        "thr_arr.shape"
      ],
      "execution_count": 0,
      "outputs": [
        {
          "output_type": "execute_result",
          "data": {
            "text/plain": [
              "(3, 3, 3)"
            ]
          },
          "metadata": {
            "tags": []
          },
          "execution_count": 32
        }
      ]
    },
    {
      "cell_type": "code",
      "metadata": {
        "id": "V-Cx1AS-ABqD",
        "colab_type": "code",
        "outputId": "1c224538-7672-400f-9e88-a72a1108bcd4",
        "colab": {
          "base_uri": "https://localhost:8080/",
          "height": 202
        }
      },
      "source": [
        "thr_arr"
      ],
      "execution_count": 0,
      "outputs": [
        {
          "output_type": "execute_result",
          "data": {
            "text/plain": [
              "array([[[  1.,   2.,   3.],\n",
              "        [ 10.,  20.,  30.],\n",
              "        [100., 200., 300.]],\n",
              "\n",
              "       [[  4.,   5.,   6.],\n",
              "        [ 40.,  50.,  60.],\n",
              "        [400., 500., 600.]],\n",
              "\n",
              "       [[  7.,   8.,   9.],\n",
              "        [ 70.,  80.,  90.],\n",
              "        [700., 800., 900.]]])"
            ]
          },
          "metadata": {
            "tags": []
          },
          "execution_count": 33
        }
      ]
    },
    {
      "cell_type": "code",
      "metadata": {
        "id": "ouNmBifqAL5F",
        "colab_type": "code",
        "outputId": "0ea94fa6-a8c9-4c91-825c-9c246fdc1bfc",
        "colab": {
          "base_uri": "https://localhost:8080/",
          "height": 34
        }
      },
      "source": [
        "thr_arr[0][1][0]"
      ],
      "execution_count": 0,
      "outputs": [
        {
          "output_type": "execute_result",
          "data": {
            "text/plain": [
              "10.0"
            ]
          },
          "metadata": {
            "tags": []
          },
          "execution_count": 34
        }
      ]
    },
    {
      "cell_type": "code",
      "metadata": {
        "id": "QqoZuL9pCF8I",
        "colab_type": "code",
        "colab": {}
      },
      "source": [
        "a = np.array([1,2,3,4,5], dtype=int)"
      ],
      "execution_count": 0,
      "outputs": []
    },
    {
      "cell_type": "code",
      "metadata": {
        "id": "sA_LQ-fpCVw4",
        "colab_type": "code",
        "outputId": "18776e62-15b8-46c5-be59-f1eb93bfd39b",
        "colab": {
          "base_uri": "https://localhost:8080/",
          "height": 34
        }
      },
      "source": [
        "a"
      ],
      "execution_count": 0,
      "outputs": [
        {
          "output_type": "execute_result",
          "data": {
            "text/plain": [
              "array([1, 2, 3, 4, 5])"
            ]
          },
          "metadata": {
            "tags": []
          },
          "execution_count": 36
        }
      ]
    },
    {
      "cell_type": "code",
      "metadata": {
        "id": "U6f3wzY-CWhL",
        "colab_type": "code",
        "outputId": "288091b6-27f0-43e5-964c-f625a1c44f49",
        "colab": {
          "base_uri": "https://localhost:8080/",
          "height": 34
        }
      },
      "source": [
        "a.ndim"
      ],
      "execution_count": 0,
      "outputs": [
        {
          "output_type": "execute_result",
          "data": {
            "text/plain": [
              "1"
            ]
          },
          "metadata": {
            "tags": []
          },
          "execution_count": 37
        }
      ]
    },
    {
      "cell_type": "code",
      "metadata": {
        "id": "FFo-BvP5Ce_t",
        "colab_type": "code",
        "colab": {}
      },
      "source": [
        "sev = np.full((2,3,3),7)"
      ],
      "execution_count": 0,
      "outputs": []
    },
    {
      "cell_type": "code",
      "metadata": {
        "id": "KYNExa-fC6sK",
        "colab_type": "code",
        "outputId": "7b1ece8d-17a3-4f10-8fa2-d7b9877dc6cb",
        "colab": {
          "base_uri": "https://localhost:8080/",
          "height": 134
        }
      },
      "source": [
        "sev"
      ],
      "execution_count": 0,
      "outputs": [
        {
          "output_type": "execute_result",
          "data": {
            "text/plain": [
              "array([[[7, 7, 7],\n",
              "        [7, 7, 7],\n",
              "        [7, 7, 7]],\n",
              "\n",
              "       [[7, 7, 7],\n",
              "        [7, 7, 7],\n",
              "        [7, 7, 7]]])"
            ]
          },
          "metadata": {
            "tags": []
          },
          "execution_count": 39
        }
      ]
    },
    {
      "cell_type": "code",
      "metadata": {
        "id": "QYGmqzLBC7bd",
        "colab_type": "code",
        "colab": {}
      },
      "source": [
        "z = np.zeros((3,3))"
      ],
      "execution_count": 0,
      "outputs": []
    },
    {
      "cell_type": "code",
      "metadata": {
        "id": "0QZ-P23bDdOK",
        "colab_type": "code",
        "outputId": "5fce699d-0cdc-4fe0-d056-2abf5446ed6d",
        "colab": {
          "base_uri": "https://localhost:8080/",
          "height": 67
        }
      },
      "source": [
        "z"
      ],
      "execution_count": 0,
      "outputs": [
        {
          "output_type": "execute_result",
          "data": {
            "text/plain": [
              "array([[0., 0., 0.],\n",
              "       [0., 0., 0.],\n",
              "       [0., 0., 0.]])"
            ]
          },
          "metadata": {
            "tags": []
          },
          "execution_count": 41
        }
      ]
    },
    {
      "cell_type": "code",
      "metadata": {
        "id": "74XNDv3GDhRm",
        "colab_type": "code",
        "colab": {}
      },
      "source": [
        "o = np.ones([5,5])"
      ],
      "execution_count": 0,
      "outputs": []
    },
    {
      "cell_type": "code",
      "metadata": {
        "id": "lo6goSQbDnrW",
        "colab_type": "code",
        "outputId": "4f903291-2178-425d-e2a2-a36590460287",
        "colab": {
          "base_uri": "https://localhost:8080/",
          "height": 101
        }
      },
      "source": [
        "o"
      ],
      "execution_count": 0,
      "outputs": [
        {
          "output_type": "execute_result",
          "data": {
            "text/plain": [
              "array([[1., 1., 1., 1., 1.],\n",
              "       [1., 1., 1., 1., 1.],\n",
              "       [1., 1., 1., 1., 1.],\n",
              "       [1., 1., 1., 1., 1.],\n",
              "       [1., 1., 1., 1., 1.]])"
            ]
          },
          "metadata": {
            "tags": []
          },
          "execution_count": 43
        }
      ]
    },
    {
      "cell_type": "code",
      "metadata": {
        "id": "djeiFupoDq2j",
        "colab_type": "code",
        "outputId": "7652d250-9b2b-4f8e-c3d7-2f8dd1524b53",
        "colab": {
          "base_uri": "https://localhost:8080/",
          "height": 34
        }
      },
      "source": [
        "np.ones([1,2],dtype=int)"
      ],
      "execution_count": 0,
      "outputs": [
        {
          "output_type": "execute_result",
          "data": {
            "text/plain": [
              "array([[1, 1]])"
            ]
          },
          "metadata": {
            "tags": []
          },
          "execution_count": 44
        }
      ]
    },
    {
      "cell_type": "code",
      "metadata": {
        "id": "qFPxJbU2DyAD",
        "colab_type": "code",
        "colab": {}
      },
      "source": [
        "e = np.empty([2,2])"
      ],
      "execution_count": 0,
      "outputs": []
    },
    {
      "cell_type": "code",
      "metadata": {
        "id": "CVJbMwh7D_cr",
        "colab_type": "code",
        "outputId": "de45e7fb-0dc3-4a5f-a91c-b100db24c793",
        "colab": {
          "base_uri": "https://localhost:8080/",
          "height": 50
        }
      },
      "source": [
        "e"
      ],
      "execution_count": 0,
      "outputs": [
        {
          "output_type": "execute_result",
          "data": {
            "text/plain": [
              "array([[5.e-324, 5.e-324],\n",
              "       [5.e-324, 0.e+000]])"
            ]
          },
          "metadata": {
            "tags": []
          },
          "execution_count": 46
        }
      ]
    },
    {
      "cell_type": "code",
      "metadata": {
        "id": "ezKNKaQaEAAP",
        "colab_type": "code",
        "colab": {}
      },
      "source": [
        "r = np.random.random([3,4])"
      ],
      "execution_count": 0,
      "outputs": []
    },
    {
      "cell_type": "code",
      "metadata": {
        "id": "0ElAMVo8ENrN",
        "colab_type": "code",
        "outputId": "a22701a1-6aae-48a3-c860-c8c7131c4abf",
        "colab": {
          "base_uri": "https://localhost:8080/",
          "height": 67
        }
      },
      "source": [
        "r"
      ],
      "execution_count": 0,
      "outputs": [
        {
          "output_type": "execute_result",
          "data": {
            "text/plain": [
              "array([[0.27981   , 0.2913664 , 0.32091166, 0.03108961],\n",
              "       [0.82736791, 0.49376461, 0.61627056, 0.89435035],\n",
              "       [0.08477061, 0.78359368, 0.73966895, 0.88818102]])"
            ]
          },
          "metadata": {
            "tags": []
          },
          "execution_count": 48
        }
      ]
    },
    {
      "cell_type": "code",
      "metadata": {
        "id": "dHWhXXbWEOWA",
        "colab_type": "code",
        "colab": {}
      },
      "source": [
        "ar = np.arange(105,501,5)"
      ],
      "execution_count": 0,
      "outputs": []
    },
    {
      "cell_type": "code",
      "metadata": {
        "id": "C85d7vl2EWQB",
        "colab_type": "code",
        "outputId": "46933cea-656d-4c60-d753-277bdf117173",
        "colab": {
          "base_uri": "https://localhost:8080/",
          "height": 134
        }
      },
      "source": [
        "ar"
      ],
      "execution_count": 0,
      "outputs": [
        {
          "output_type": "execute_result",
          "data": {
            "text/plain": [
              "array([105, 110, 115, 120, 125, 130, 135, 140, 145, 150, 155, 160, 165,\n",
              "       170, 175, 180, 185, 190, 195, 200, 205, 210, 215, 220, 225, 230,\n",
              "       235, 240, 245, 250, 255, 260, 265, 270, 275, 280, 285, 290, 295,\n",
              "       300, 305, 310, 315, 320, 325, 330, 335, 340, 345, 350, 355, 360,\n",
              "       365, 370, 375, 380, 385, 390, 395, 400, 405, 410, 415, 420, 425,\n",
              "       430, 435, 440, 445, 450, 455, 460, 465, 470, 475, 480, 485, 490,\n",
              "       495, 500])"
            ]
          },
          "metadata": {
            "tags": []
          },
          "execution_count": 50
        }
      ]
    },
    {
      "cell_type": "code",
      "metadata": {
        "id": "bKDeReVmEd18",
        "colab_type": "code",
        "colab": {}
      },
      "source": [
        "l = np.linspace(10,100)"
      ],
      "execution_count": 0,
      "outputs": []
    },
    {
      "cell_type": "code",
      "metadata": {
        "id": "Q0c1_ej-Hxey",
        "colab_type": "code",
        "outputId": "91569a63-de7c-4cea-818f-d98adf845167",
        "colab": {
          "base_uri": "https://localhost:8080/",
          "height": 235
        }
      },
      "source": [
        "l"
      ],
      "execution_count": 0,
      "outputs": [
        {
          "output_type": "execute_result",
          "data": {
            "text/plain": [
              "array([ 10.        ,  11.83673469,  13.67346939,  15.51020408,\n",
              "        17.34693878,  19.18367347,  21.02040816,  22.85714286,\n",
              "        24.69387755,  26.53061224,  28.36734694,  30.20408163,\n",
              "        32.04081633,  33.87755102,  35.71428571,  37.55102041,\n",
              "        39.3877551 ,  41.2244898 ,  43.06122449,  44.89795918,\n",
              "        46.73469388,  48.57142857,  50.40816327,  52.24489796,\n",
              "        54.08163265,  55.91836735,  57.75510204,  59.59183673,\n",
              "        61.42857143,  63.26530612,  65.10204082,  66.93877551,\n",
              "        68.7755102 ,  70.6122449 ,  72.44897959,  74.28571429,\n",
              "        76.12244898,  77.95918367,  79.79591837,  81.63265306,\n",
              "        83.46938776,  85.30612245,  87.14285714,  88.97959184,\n",
              "        90.81632653,  92.65306122,  94.48979592,  96.32653061,\n",
              "        98.16326531, 100.        ])"
            ]
          },
          "metadata": {
            "tags": []
          },
          "execution_count": 52
        }
      ]
    },
    {
      "cell_type": "code",
      "metadata": {
        "id": "guChKryqH77-",
        "colab_type": "code",
        "outputId": "93bee8b7-b904-407a-e531-735404427e33",
        "colab": {
          "base_uri": "https://localhost:8080/",
          "height": 34
        }
      },
      "source": [
        "l[1]-l[0]"
      ],
      "execution_count": 0,
      "outputs": [
        {
          "output_type": "execute_result",
          "data": {
            "text/plain": [
              "1.8367346938775508"
            ]
          },
          "metadata": {
            "tags": []
          },
          "execution_count": 53
        }
      ]
    },
    {
      "cell_type": "code",
      "metadata": {
        "id": "Duw3U2oRIBnD",
        "colab_type": "code",
        "outputId": "415d3b25-a81a-4916-fd36-da201a7200a8",
        "colab": {
          "base_uri": "https://localhost:8080/",
          "height": 34
        }
      },
      "source": [
        "l[2]-l[1]"
      ],
      "execution_count": 0,
      "outputs": [
        {
          "output_type": "execute_result",
          "data": {
            "text/plain": [
              "1.8367346938775508"
            ]
          },
          "metadata": {
            "tags": []
          },
          "execution_count": 54
        }
      ]
    },
    {
      "cell_type": "code",
      "metadata": {
        "id": "U5wQfw5ZILOU",
        "colab_type": "code",
        "outputId": "f58528ae-f7ca-43f4-c239-6889ee3b48fc",
        "colab": {
          "base_uri": "https://localhost:8080/",
          "height": 34
        }
      },
      "source": [
        "l[7]-l[6]"
      ],
      "execution_count": 0,
      "outputs": [
        {
          "output_type": "execute_result",
          "data": {
            "text/plain": [
              "1.836734693877549"
            ]
          },
          "metadata": {
            "tags": []
          },
          "execution_count": 55
        }
      ]
    },
    {
      "cell_type": "code",
      "metadata": {
        "id": "ggklfFk4IO73",
        "colab_type": "code",
        "colab": {}
      },
      "source": [
        "l2 = np.linspace(0,100)"
      ],
      "execution_count": 0,
      "outputs": []
    },
    {
      "cell_type": "code",
      "metadata": {
        "id": "iyJfS8uNIbvw",
        "colab_type": "code",
        "outputId": "907ce7ce-da74-49e9-8238-1362056f05ba",
        "colab": {
          "base_uri": "https://localhost:8080/",
          "height": 235
        }
      },
      "source": [
        "l2"
      ],
      "execution_count": 0,
      "outputs": [
        {
          "output_type": "execute_result",
          "data": {
            "text/plain": [
              "array([  0.        ,   2.04081633,   4.08163265,   6.12244898,\n",
              "         8.16326531,  10.20408163,  12.24489796,  14.28571429,\n",
              "        16.32653061,  18.36734694,  20.40816327,  22.44897959,\n",
              "        24.48979592,  26.53061224,  28.57142857,  30.6122449 ,\n",
              "        32.65306122,  34.69387755,  36.73469388,  38.7755102 ,\n",
              "        40.81632653,  42.85714286,  44.89795918,  46.93877551,\n",
              "        48.97959184,  51.02040816,  53.06122449,  55.10204082,\n",
              "        57.14285714,  59.18367347,  61.2244898 ,  63.26530612,\n",
              "        65.30612245,  67.34693878,  69.3877551 ,  71.42857143,\n",
              "        73.46938776,  75.51020408,  77.55102041,  79.59183673,\n",
              "        81.63265306,  83.67346939,  85.71428571,  87.75510204,\n",
              "        89.79591837,  91.83673469,  93.87755102,  95.91836735,\n",
              "        97.95918367, 100.        ])"
            ]
          },
          "metadata": {
            "tags": []
          },
          "execution_count": 57
        }
      ]
    },
    {
      "cell_type": "code",
      "metadata": {
        "id": "lIUfIAfbIcjV",
        "colab_type": "code",
        "colab": {}
      },
      "source": [
        "l3 = np.linspace(0,100,10)"
      ],
      "execution_count": 0,
      "outputs": []
    },
    {
      "cell_type": "code",
      "metadata": {
        "id": "WpQqeVouI7IW",
        "colab_type": "code",
        "outputId": "5a51f3fa-9eaf-41cf-c18f-81fe0cda7845",
        "colab": {
          "base_uri": "https://localhost:8080/",
          "height": 67
        }
      },
      "source": [
        "l3"
      ],
      "execution_count": 0,
      "outputs": [
        {
          "output_type": "execute_result",
          "data": {
            "text/plain": [
              "array([  0.        ,  11.11111111,  22.22222222,  33.33333333,\n",
              "        44.44444444,  55.55555556,  66.66666667,  77.77777778,\n",
              "        88.88888889, 100.        ])"
            ]
          },
          "metadata": {
            "tags": []
          },
          "execution_count": 59
        }
      ]
    },
    {
      "cell_type": "code",
      "metadata": {
        "id": "EDIyzctDI8KS",
        "colab_type": "code",
        "outputId": "967229f5-8ea6-4eb7-c2d3-aceff41aca12",
        "colab": {
          "base_uri": "https://localhost:8080/",
          "height": 34
        }
      },
      "source": [
        "np.linspace(11,20,10,dtype=int)"
      ],
      "execution_count": 0,
      "outputs": [
        {
          "output_type": "execute_result",
          "data": {
            "text/plain": [
              "array([11, 12, 13, 14, 15, 16, 17, 18, 19, 20])"
            ]
          },
          "metadata": {
            "tags": []
          },
          "execution_count": 60
        }
      ]
    },
    {
      "cell_type": "code",
      "metadata": {
        "id": "o0_UnaV6JDtQ",
        "colab_type": "code",
        "outputId": "b43ba72d-6e15-4971-fa80-83a3f7540804",
        "colab": {
          "base_uri": "https://localhost:8080/",
          "height": 34
        }
      },
      "source": [
        "l3.size"
      ],
      "execution_count": 0,
      "outputs": [
        {
          "output_type": "execute_result",
          "data": {
            "text/plain": [
              "10"
            ]
          },
          "metadata": {
            "tags": []
          },
          "execution_count": 61
        }
      ]
    },
    {
      "cell_type": "code",
      "metadata": {
        "id": "b5rD3EBrLd03",
        "colab_type": "code",
        "outputId": "4fe4da9c-7766-421d-b1ad-abbd7e7337bd",
        "colab": {
          "base_uri": "https://localhost:8080/",
          "height": 34
        }
      },
      "source": [
        "l3.dtype"
      ],
      "execution_count": 0,
      "outputs": [
        {
          "output_type": "execute_result",
          "data": {
            "text/plain": [
              "dtype('float64')"
            ]
          },
          "metadata": {
            "tags": []
          },
          "execution_count": 62
        }
      ]
    },
    {
      "cell_type": "code",
      "metadata": {
        "id": "DLGiAmBvLhv4",
        "colab_type": "code",
        "outputId": "973d884d-eb99-4219-f5d7-8353f0ac69db",
        "colab": {
          "base_uri": "https://localhost:8080/",
          "height": 34
        }
      },
      "source": [
        "thr_arr.size"
      ],
      "execution_count": 0,
      "outputs": [
        {
          "output_type": "execute_result",
          "data": {
            "text/plain": [
              "27"
            ]
          },
          "metadata": {
            "tags": []
          },
          "execution_count": 63
        }
      ]
    },
    {
      "cell_type": "code",
      "metadata": {
        "id": "o_KnU_1ZLlSX",
        "colab_type": "code",
        "outputId": "427d6931-0352-4ed4-e991-b4715855d123",
        "colab": {
          "base_uri": "https://localhost:8080/",
          "height": 34
        }
      },
      "source": [
        "l3.sum()"
      ],
      "execution_count": 0,
      "outputs": [
        {
          "output_type": "execute_result",
          "data": {
            "text/plain": [
              "500.0"
            ]
          },
          "metadata": {
            "tags": []
          },
          "execution_count": 64
        }
      ]
    },
    {
      "cell_type": "code",
      "metadata": {
        "id": "MubhZehFMNCr",
        "colab_type": "code",
        "outputId": "25491e3a-d4a7-49ec-8af9-339cee704706",
        "colab": {
          "base_uri": "https://localhost:8080/",
          "height": 34
        }
      },
      "source": [
        "l3.min()"
      ],
      "execution_count": 0,
      "outputs": [
        {
          "output_type": "execute_result",
          "data": {
            "text/plain": [
              "0.0"
            ]
          },
          "metadata": {
            "tags": []
          },
          "execution_count": 65
        }
      ]
    },
    {
      "cell_type": "code",
      "metadata": {
        "id": "UoW_SsPkMPOh",
        "colab_type": "code",
        "outputId": "c5bb2d2d-b4ac-423c-8a61-eb3b314d0e9f",
        "colab": {
          "base_uri": "https://localhost:8080/",
          "height": 34
        }
      },
      "source": [
        "l3.max()"
      ],
      "execution_count": 0,
      "outputs": [
        {
          "output_type": "execute_result",
          "data": {
            "text/plain": [
              "100.0"
            ]
          },
          "metadata": {
            "tags": []
          },
          "execution_count": 66
        }
      ]
    },
    {
      "cell_type": "code",
      "metadata": {
        "id": "LeuV8QpmMRfn",
        "colab_type": "code",
        "outputId": "085fb85f-288e-497f-e6d3-041e0eba9de9",
        "colab": {
          "base_uri": "https://localhost:8080/",
          "height": 34
        }
      },
      "source": [
        "l3.mean()"
      ],
      "execution_count": 0,
      "outputs": [
        {
          "output_type": "execute_result",
          "data": {
            "text/plain": [
              "50.0"
            ]
          },
          "metadata": {
            "tags": []
          },
          "execution_count": 67
        }
      ]
    },
    {
      "cell_type": "code",
      "metadata": {
        "id": "YcPZdnHAMUsx",
        "colab_type": "code",
        "outputId": "385d8b77-c1bb-43c0-b4fe-db433b0d014a",
        "colab": {
          "base_uri": "https://localhost:8080/",
          "height": 34
        }
      },
      "source": [
        "np.median(l3)"
      ],
      "execution_count": 0,
      "outputs": [
        {
          "output_type": "execute_result",
          "data": {
            "text/plain": [
              "50.0"
            ]
          },
          "metadata": {
            "tags": []
          },
          "execution_count": 68
        }
      ]
    },
    {
      "cell_type": "code",
      "metadata": {
        "id": "10R5Xvb6MaFv",
        "colab_type": "code",
        "outputId": "e59c9cd9-e4d9-4cbb-b042-84c46621af1b",
        "colab": {
          "base_uri": "https://localhost:8080/",
          "height": 34
        }
      },
      "source": [
        "np.std(l3)"
      ],
      "execution_count": 0,
      "outputs": [
        {
          "output_type": "execute_result",
          "data": {
            "text/plain": [
              "31.91423692521127"
            ]
          },
          "metadata": {
            "tags": []
          },
          "execution_count": 69
        }
      ]
    },
    {
      "cell_type": "code",
      "metadata": {
        "id": "RxrdZWxDMkYx",
        "colab_type": "code",
        "outputId": "c811063b-dc54-415b-aff5-490a48e203f0",
        "colab": {
          "base_uri": "https://localhost:8080/",
          "height": 34
        }
      },
      "source": [
        "a"
      ],
      "execution_count": 0,
      "outputs": [
        {
          "output_type": "execute_result",
          "data": {
            "text/plain": [
              "array([1, 2, 3, 4, 5])"
            ]
          },
          "metadata": {
            "tags": []
          },
          "execution_count": 70
        }
      ]
    },
    {
      "cell_type": "code",
      "metadata": {
        "id": "L1dcw61SMvSR",
        "colab_type": "code",
        "colab": {}
      },
      "source": [
        "b = np.array([4,5,6,7,8])"
      ],
      "execution_count": 0,
      "outputs": []
    },
    {
      "cell_type": "code",
      "metadata": {
        "id": "aWgc3yojMwK4",
        "colab_type": "code",
        "outputId": "1177c558-d674-41df-c77a-34e8c20cff60",
        "colab": {
          "base_uri": "https://localhost:8080/",
          "height": 34
        }
      },
      "source": [
        "a + b"
      ],
      "execution_count": 0,
      "outputs": [
        {
          "output_type": "execute_result",
          "data": {
            "text/plain": [
              "array([ 5,  7,  9, 11, 13])"
            ]
          },
          "metadata": {
            "tags": []
          },
          "execution_count": 72
        }
      ]
    },
    {
      "cell_type": "code",
      "metadata": {
        "id": "Dq-c0V7NM2Fg",
        "colab_type": "code",
        "colab": {}
      },
      "source": [
        "c = np.array([1,2,3])"
      ],
      "execution_count": 0,
      "outputs": []
    },
    {
      "cell_type": "code",
      "metadata": {
        "id": "UtP6vBLfM83U",
        "colab_type": "code",
        "outputId": "b27a7fcb-0062-4cb7-9705-7b9b68df0aec",
        "colab": {
          "base_uri": "https://localhost:8080/",
          "height": 34
        }
      },
      "source": [
        "a - b"
      ],
      "execution_count": 0,
      "outputs": [
        {
          "output_type": "execute_result",
          "data": {
            "text/plain": [
              "array([-3, -3, -3, -3, -3])"
            ]
          },
          "metadata": {
            "tags": []
          },
          "execution_count": 74
        }
      ]
    },
    {
      "cell_type": "code",
      "metadata": {
        "id": "fhrHGkbNM-Tv",
        "colab_type": "code",
        "outputId": "17f0c2ff-9649-4493-ed36-30a95d928fdb",
        "colab": {
          "base_uri": "https://localhost:8080/",
          "height": 34
        }
      },
      "source": [
        "a * 2"
      ],
      "execution_count": 0,
      "outputs": [
        {
          "output_type": "execute_result",
          "data": {
            "text/plain": [
              "array([ 2,  4,  6,  8, 10])"
            ]
          },
          "metadata": {
            "tags": []
          },
          "execution_count": 75
        }
      ]
    },
    {
      "cell_type": "code",
      "metadata": {
        "id": "4m43TGGYNJyO",
        "colab_type": "code",
        "outputId": "f54aaf8e-efd6-432d-da62-45ee85d10f5b",
        "colab": {
          "base_uri": "https://localhost:8080/",
          "height": 34
        }
      },
      "source": [
        "a / 2"
      ],
      "execution_count": 0,
      "outputs": [
        {
          "output_type": "execute_result",
          "data": {
            "text/plain": [
              "array([0.5, 1. , 1.5, 2. , 2.5])"
            ]
          },
          "metadata": {
            "tags": []
          },
          "execution_count": 76
        }
      ]
    },
    {
      "cell_type": "code",
      "metadata": {
        "id": "UPm_UFiGNOw0",
        "colab_type": "code",
        "outputId": "50c9b477-6c16-4b79-807c-502d48e851c9",
        "colab": {
          "base_uri": "https://localhost:8080/",
          "height": 34
        }
      },
      "source": [
        "a // 2"
      ],
      "execution_count": 0,
      "outputs": [
        {
          "output_type": "execute_result",
          "data": {
            "text/plain": [
              "array([0, 1, 1, 2, 2])"
            ]
          },
          "metadata": {
            "tags": []
          },
          "execution_count": 77
        }
      ]
    },
    {
      "cell_type": "code",
      "metadata": {
        "id": "B2Bu0_ikNRv_",
        "colab_type": "code",
        "outputId": "51e5e1c3-44fb-4f96-fe1a-0e475c680cba",
        "colab": {
          "base_uri": "https://localhost:8080/",
          "height": 34
        }
      },
      "source": [
        "a * b"
      ],
      "execution_count": 0,
      "outputs": [
        {
          "output_type": "execute_result",
          "data": {
            "text/plain": [
              "array([ 4, 10, 18, 28, 40])"
            ]
          },
          "metadata": {
            "tags": []
          },
          "execution_count": 78
        }
      ]
    },
    {
      "cell_type": "code",
      "metadata": {
        "id": "XYcbcEHTNeSQ",
        "colab_type": "code",
        "outputId": "1cbdc8b1-5da2-41bf-f512-e26bfe21ec6c",
        "colab": {
          "base_uri": "https://localhost:8080/",
          "height": 34
        }
      },
      "source": [
        "a / b"
      ],
      "execution_count": 0,
      "outputs": [
        {
          "output_type": "execute_result",
          "data": {
            "text/plain": [
              "array([0.25      , 0.4       , 0.5       , 0.57142857, 0.625     ])"
            ]
          },
          "metadata": {
            "tags": []
          },
          "execution_count": 79
        }
      ]
    },
    {
      "cell_type": "code",
      "metadata": {
        "id": "LWiPT2PqNhVf",
        "colab_type": "code",
        "outputId": "c6c96ecb-fc4c-4b70-deb2-7205499ed30d",
        "colab": {
          "base_uri": "https://localhost:8080/",
          "height": 34
        }
      },
      "source": [
        "a"
      ],
      "execution_count": 0,
      "outputs": [
        {
          "output_type": "execute_result",
          "data": {
            "text/plain": [
              "array([1, 2, 3, 4, 5])"
            ]
          },
          "metadata": {
            "tags": []
          },
          "execution_count": 80
        }
      ]
    },
    {
      "cell_type": "code",
      "metadata": {
        "id": "srpMvZXBKr9q",
        "colab_type": "code",
        "outputId": "016e065a-ed72-4203-94d1-12d5cb92e7c5",
        "colab": {
          "base_uri": "https://localhost:8080/",
          "height": 50
        }
      },
      "source": [
        "np.exp(a)"
      ],
      "execution_count": 0,
      "outputs": [
        {
          "output_type": "execute_result",
          "data": {
            "text/plain": [
              "array([  2.71828183,   7.3890561 ,  20.08553692,  54.59815003,\n",
              "       148.4131591 ])"
            ]
          },
          "metadata": {
            "tags": []
          },
          "execution_count": 81
        }
      ]
    },
    {
      "cell_type": "code",
      "metadata": {
        "id": "v4O5NO7fKwDI",
        "colab_type": "code",
        "outputId": "2bf16fea-7507-4880-b45c-bd2f0b0e1425",
        "colab": {
          "base_uri": "https://localhost:8080/",
          "height": 34
        }
      },
      "source": [
        "np.sin(a)"
      ],
      "execution_count": 0,
      "outputs": [
        {
          "output_type": "execute_result",
          "data": {
            "text/plain": [
              "array([ 0.84147098,  0.90929743,  0.14112001, -0.7568025 , -0.95892427])"
            ]
          },
          "metadata": {
            "tags": []
          },
          "execution_count": 82
        }
      ]
    },
    {
      "cell_type": "code",
      "metadata": {
        "id": "6bPkj5utK1Jw",
        "colab_type": "code",
        "outputId": "ea8c336c-7485-4e18-a4e5-a6fa760f324c",
        "colab": {
          "base_uri": "https://localhost:8080/",
          "height": 34
        }
      },
      "source": [
        "np.cos(a)"
      ],
      "execution_count": 0,
      "outputs": [
        {
          "output_type": "execute_result",
          "data": {
            "text/plain": [
              "array([ 0.54030231, -0.41614684, -0.9899925 , -0.65364362,  0.28366219])"
            ]
          },
          "metadata": {
            "tags": []
          },
          "execution_count": 83
        }
      ]
    },
    {
      "cell_type": "code",
      "metadata": {
        "id": "_WBbnyiPK5Z2",
        "colab_type": "code",
        "outputId": "79c4e2ba-65c9-42fa-b5e2-9b29bbef09eb",
        "colab": {
          "base_uri": "https://localhost:8080/",
          "height": 34
        }
      },
      "source": [
        "np.tan(a)"
      ],
      "execution_count": 0,
      "outputs": [
        {
          "output_type": "execute_result",
          "data": {
            "text/plain": [
              "array([ 1.55740772, -2.18503986, -0.14254654,  1.15782128, -3.38051501])"
            ]
          },
          "metadata": {
            "tags": []
          },
          "execution_count": 84
        }
      ]
    },
    {
      "cell_type": "code",
      "metadata": {
        "id": "F1pl-GhJK6zp",
        "colab_type": "code",
        "outputId": "142f2c6f-ed78-4a7f-9e84-110b29b76152",
        "colab": {
          "base_uri": "https://localhost:8080/",
          "height": 34
        }
      },
      "source": [
        "np.log(a)"
      ],
      "execution_count": 0,
      "outputs": [
        {
          "output_type": "execute_result",
          "data": {
            "text/plain": [
              "array([0.        , 0.69314718, 1.09861229, 1.38629436, 1.60943791])"
            ]
          },
          "metadata": {
            "tags": []
          },
          "execution_count": 86
        }
      ]
    },
    {
      "cell_type": "code",
      "metadata": {
        "id": "vN4IuZlqK9Qr",
        "colab_type": "code",
        "outputId": "6c735bef-7ee7-4c96-9773-6588a903b5ce",
        "colab": {
          "base_uri": "https://localhost:8080/",
          "height": 34
        }
      },
      "source": [
        "np.sqrt(a)"
      ],
      "execution_count": 0,
      "outputs": [
        {
          "output_type": "execute_result",
          "data": {
            "text/plain": [
              "array([1.        , 1.41421356, 1.73205081, 2.        , 2.23606798])"
            ]
          },
          "metadata": {
            "tags": []
          },
          "execution_count": 87
        }
      ]
    },
    {
      "cell_type": "code",
      "metadata": {
        "id": "5OXnT4W0LLOP",
        "colab_type": "code",
        "outputId": "d6652109-560a-4354-dd4c-3b998de4009a",
        "colab": {
          "base_uri": "https://localhost:8080/",
          "height": 34
        }
      },
      "source": [
        "a[0] "
      ],
      "execution_count": 0,
      "outputs": [
        {
          "output_type": "execute_result",
          "data": {
            "text/plain": [
              "1"
            ]
          },
          "metadata": {
            "tags": []
          },
          "execution_count": 88
        }
      ]
    },
    {
      "cell_type": "code",
      "metadata": {
        "id": "jergPlA1LRTp",
        "colab_type": "code",
        "colab": {}
      },
      "source": [
        "a[0] = 10"
      ],
      "execution_count": 0,
      "outputs": []
    },
    {
      "cell_type": "code",
      "metadata": {
        "id": "Cdi55MQRLVDV",
        "colab_type": "code",
        "outputId": "4b6db406-4bda-4eff-a026-0ec896dbf5c6",
        "colab": {
          "base_uri": "https://localhost:8080/",
          "height": 34
        }
      },
      "source": [
        "a"
      ],
      "execution_count": 0,
      "outputs": [
        {
          "output_type": "execute_result",
          "data": {
            "text/plain": [
              "array([10,  2,  3,  4,  5])"
            ]
          },
          "metadata": {
            "tags": []
          },
          "execution_count": 90
        }
      ]
    },
    {
      "cell_type": "code",
      "metadata": {
        "id": "-RlI3oq6LVzk",
        "colab_type": "code",
        "colab": {}
      },
      "source": [
        "b = np.array([1,2,3,4,5,6])"
      ],
      "execution_count": 0,
      "outputs": []
    },
    {
      "cell_type": "code",
      "metadata": {
        "id": "9IKBZKnWLeiE",
        "colab_type": "code",
        "outputId": "cc626d64-c254-47cd-fe24-8f78d8cf487c",
        "colab": {
          "base_uri": "https://localhost:8080/",
          "height": 34
        }
      },
      "source": [
        "b.shape"
      ],
      "execution_count": 0,
      "outputs": [
        {
          "output_type": "execute_result",
          "data": {
            "text/plain": [
              "(6,)"
            ]
          },
          "metadata": {
            "tags": []
          },
          "execution_count": 93
        }
      ]
    },
    {
      "cell_type": "code",
      "metadata": {
        "id": "p7jGx0pzLgx2",
        "colab_type": "code",
        "colab": {}
      },
      "source": [
        "b = b.reshape(2,3)"
      ],
      "execution_count": 0,
      "outputs": []
    },
    {
      "cell_type": "code",
      "metadata": {
        "id": "sb4lb8ckLoIo",
        "colab_type": "code",
        "outputId": "8a63a851-46ee-4679-b3d1-699c5bbb5b26",
        "colab": {
          "base_uri": "https://localhost:8080/",
          "height": 50
        }
      },
      "source": [
        "b"
      ],
      "execution_count": 0,
      "outputs": [
        {
          "output_type": "execute_result",
          "data": {
            "text/plain": [
              "array([[1, 2, 3],\n",
              "       [4, 5, 6]])"
            ]
          },
          "metadata": {
            "tags": []
          },
          "execution_count": 97
        }
      ]
    },
    {
      "cell_type": "code",
      "metadata": {
        "id": "O2HandtgLwUf",
        "colab_type": "code",
        "colab": {}
      },
      "source": [
        "o = b.flatten()"
      ],
      "execution_count": 0,
      "outputs": []
    },
    {
      "cell_type": "code",
      "metadata": {
        "id": "UuMgr7tbL8GW",
        "colab_type": "code",
        "outputId": "d572b67b-3af0-433c-f49a-2c95287222b5",
        "colab": {
          "base_uri": "https://localhost:8080/",
          "height": 34
        }
      },
      "source": [
        "o.ndim"
      ],
      "execution_count": 0,
      "outputs": [
        {
          "output_type": "execute_result",
          "data": {
            "text/plain": [
              "1"
            ]
          },
          "metadata": {
            "tags": []
          },
          "execution_count": 100
        }
      ]
    },
    {
      "cell_type": "code",
      "metadata": {
        "id": "fhW53UbAMafg",
        "colab_type": "code",
        "outputId": "1bc2c164-0af8-453f-a33e-1d6d1a8b0216",
        "colab": {
          "base_uri": "https://localhost:8080/",
          "height": 34
        }
      },
      "source": [
        "o"
      ],
      "execution_count": 0,
      "outputs": [
        {
          "output_type": "execute_result",
          "data": {
            "text/plain": [
              "array([1, 2, 3, 4, 5, 6])"
            ]
          },
          "metadata": {
            "tags": []
          },
          "execution_count": 103
        }
      ]
    },
    {
      "cell_type": "code",
      "metadata": {
        "id": "OQel-EzBL8_b",
        "colab_type": "code",
        "colab": {}
      },
      "source": [
        "r = b.ravel()"
      ],
      "execution_count": 0,
      "outputs": []
    },
    {
      "cell_type": "code",
      "metadata": {
        "id": "Blbe0nrWMGvh",
        "colab_type": "code",
        "outputId": "2a2e81eb-7ba8-4944-b43e-ebdb018580d1",
        "colab": {
          "base_uri": "https://localhost:8080/",
          "height": 34
        }
      },
      "source": [
        "r"
      ],
      "execution_count": 0,
      "outputs": [
        {
          "output_type": "execute_result",
          "data": {
            "text/plain": [
              "array([1, 2, 3, 4, 5, 6])"
            ]
          },
          "metadata": {
            "tags": []
          },
          "execution_count": 109
        }
      ]
    },
    {
      "cell_type": "code",
      "metadata": {
        "id": "qnlWaAaiMHrx",
        "colab_type": "code",
        "colab": {}
      },
      "source": [
        "t = b.transpose()"
      ],
      "execution_count": 0,
      "outputs": []
    },
    {
      "cell_type": "code",
      "metadata": {
        "id": "3KPhu3I6M7bw",
        "colab_type": "code",
        "outputId": "d66663e5-e838-462e-f995-2b7b65ef1c7a",
        "colab": {
          "base_uri": "https://localhost:8080/",
          "height": 67
        }
      },
      "source": [
        "t"
      ],
      "execution_count": 0,
      "outputs": [
        {
          "output_type": "execute_result",
          "data": {
            "text/plain": [
              "array([[1, 4],\n",
              "       [2, 5],\n",
              "       [3, 6]])"
            ]
          },
          "metadata": {
            "tags": []
          },
          "execution_count": 111
        }
      ]
    },
    {
      "cell_type": "code",
      "metadata": {
        "id": "ETpOdQCOM8FI",
        "colab_type": "code",
        "colab": {}
      },
      "source": [
        "s = b.swapaxes(0,1)"
      ],
      "execution_count": 0,
      "outputs": []
    },
    {
      "cell_type": "code",
      "metadata": {
        "id": "5A242FWfNq3b",
        "colab_type": "code",
        "outputId": "37843919-d2ee-4684-fb44-2e9eb6bbbcf4",
        "colab": {
          "base_uri": "https://localhost:8080/",
          "height": 67
        }
      },
      "source": [
        "s"
      ],
      "execution_count": 0,
      "outputs": [
        {
          "output_type": "execute_result",
          "data": {
            "text/plain": [
              "array([[1, 4],\n",
              "       [2, 5],\n",
              "       [3, 6]])"
            ]
          },
          "metadata": {
            "tags": []
          },
          "execution_count": 115
        }
      ]
    },
    {
      "cell_type": "code",
      "metadata": {
        "id": "vq55lW1aNzGX",
        "colab_type": "code",
        "colab": {}
      },
      "source": [
        "b = np.array([1,2,3,4]).reshape(2,2)"
      ],
      "execution_count": 0,
      "outputs": []
    },
    {
      "cell_type": "code",
      "metadata": {
        "id": "NHKWBgPwOJpt",
        "colab_type": "code",
        "colab": {}
      },
      "source": [
        "i = np.linalg.inv(b)"
      ],
      "execution_count": 0,
      "outputs": []
    },
    {
      "cell_type": "code",
      "metadata": {
        "id": "EwVDOTfZOe-6",
        "colab_type": "code",
        "outputId": "b8480eaf-6426-439e-916a-20621312cdaa",
        "colab": {
          "base_uri": "https://localhost:8080/",
          "height": 50
        }
      },
      "source": [
        "i"
      ],
      "execution_count": 0,
      "outputs": [
        {
          "output_type": "execute_result",
          "data": {
            "text/plain": [
              "array([[-2. ,  1. ],\n",
              "       [ 1.5, -0.5]])"
            ]
          },
          "metadata": {
            "tags": []
          },
          "execution_count": 121
        }
      ]
    },
    {
      "cell_type": "code",
      "metadata": {
        "id": "XGjVJdBIOogN",
        "colab_type": "code",
        "colab": {}
      },
      "source": [
        "a = np.array([20,30,10,40])"
      ],
      "execution_count": 0,
      "outputs": []
    },
    {
      "cell_type": "code",
      "metadata": {
        "id": "AR7ySSkcO1X4",
        "colab_type": "code",
        "colab": {}
      },
      "source": [
        "b = b.ravel()"
      ],
      "execution_count": 0,
      "outputs": []
    },
    {
      "cell_type": "code",
      "metadata": {
        "id": "1s7-to5ZO2Y3",
        "colab_type": "code",
        "outputId": "c02f8dad-d34d-46fa-bdfd-a399c5637ac9",
        "colab": {
          "base_uri": "https://localhost:8080/",
          "height": 34
        }
      },
      "source": [
        "j = np.concatenate((a,b))\n",
        "j"
      ],
      "execution_count": 0,
      "outputs": [
        {
          "output_type": "execute_result",
          "data": {
            "text/plain": [
              "array([20, 30, 10, 40,  1,  2,  3,  4])"
            ]
          },
          "metadata": {
            "tags": []
          },
          "execution_count": 129
        }
      ]
    },
    {
      "cell_type": "code",
      "metadata": {
        "id": "k222mI2QPEIN",
        "colab_type": "code",
        "outputId": "3f006e4a-e585-4c66-efca-75c05bc4dbcc",
        "colab": {
          "base_uri": "https://localhost:8080/",
          "height": 50
        }
      },
      "source": [
        "st = np.stack((a,b))\n",
        "st"
      ],
      "execution_count": 0,
      "outputs": [
        {
          "output_type": "execute_result",
          "data": {
            "text/plain": [
              "array([[20, 30, 10, 40],\n",
              "       [ 1,  2,  3,  4]])"
            ]
          },
          "metadata": {
            "tags": []
          },
          "execution_count": 130
        }
      ]
    },
    {
      "cell_type": "code",
      "metadata": {
        "id": "K4XsKRAyPh0Q",
        "colab_type": "code",
        "outputId": "c7042f1b-fb8e-442e-ef48-3e38fcd0c160",
        "colab": {
          "base_uri": "https://localhost:8080/",
          "height": 34
        }
      },
      "source": [
        "hs = np.hstack((a,b))\n",
        "hs"
      ],
      "execution_count": 0,
      "outputs": [
        {
          "output_type": "execute_result",
          "data": {
            "text/plain": [
              "array([20, 30, 10, 40,  1,  2,  3,  4])"
            ]
          },
          "metadata": {
            "tags": []
          },
          "execution_count": 132
        }
      ]
    },
    {
      "cell_type": "code",
      "metadata": {
        "id": "bq8-K38gPscS",
        "colab_type": "code",
        "outputId": "71a9a1db-e768-4ad5-b5d6-8836d204ceb3",
        "colab": {
          "base_uri": "https://localhost:8080/",
          "height": 50
        }
      },
      "source": [
        "vs = np.vstack((a,b))\n",
        "vs"
      ],
      "execution_count": 0,
      "outputs": [
        {
          "output_type": "execute_result",
          "data": {
            "text/plain": [
              "array([[20, 30, 10, 40],\n",
              "       [ 1,  2,  3,  4]])"
            ]
          },
          "metadata": {
            "tags": []
          },
          "execution_count": 133
        }
      ]
    },
    {
      "cell_type": "code",
      "metadata": {
        "id": "xgcOoa6AP1mj",
        "colab_type": "code",
        "outputId": "9dfdb2a4-1bae-4aae-db62-3108d60ec841",
        "colab": {
          "base_uri": "https://localhost:8080/",
          "height": 34
        }
      },
      "source": [
        "svs = np.split(vs,2)\n",
        "svs"
      ],
      "execution_count": 0,
      "outputs": [
        {
          "output_type": "execute_result",
          "data": {
            "text/plain": [
              "[array([[20, 30, 10, 40]]), array([[1, 2, 3, 4]])]"
            ]
          },
          "metadata": {
            "tags": []
          },
          "execution_count": 134
        }
      ]
    },
    {
      "cell_type": "code",
      "metadata": {
        "id": "7sLoWl8vQGRO",
        "colab_type": "code",
        "outputId": "4cd18e38-8760-4408-afaa-e8561db8f817",
        "colab": {
          "base_uri": "https://localhost:8080/",
          "height": 34
        }
      },
      "source": [
        "hvs = np.split(hs,2)\n",
        "hvs"
      ],
      "execution_count": 0,
      "outputs": [
        {
          "output_type": "execute_result",
          "data": {
            "text/plain": [
              "[array([20, 30, 10, 40]), array([1, 2, 3, 4])]"
            ]
          },
          "metadata": {
            "tags": []
          },
          "execution_count": 135
        }
      ]
    },
    {
      "cell_type": "code",
      "metadata": {
        "id": "adY68J9DQQI2",
        "colab_type": "code",
        "colab": {}
      },
      "source": [
        "odd = np.array([1,2,3,4,5])\n",
        "sodd = np.split(odd,2)"
      ],
      "execution_count": 0,
      "outputs": []
    },
    {
      "cell_type": "code",
      "metadata": {
        "id": "5Met-nT7QcI-",
        "colab_type": "code",
        "outputId": "9d43a9aa-4b31-4a73-e338-075260f81b8b",
        "colab": {
          "base_uri": "https://localhost:8080/",
          "height": 67
        }
      },
      "source": [
        "hsvs = np.hsplit(vs,2)\n",
        "hsvs"
      ],
      "execution_count": 0,
      "outputs": [
        {
          "output_type": "execute_result",
          "data": {
            "text/plain": [
              "[array([[20, 30],\n",
              "        [ 1,  2]]), array([[10, 40],\n",
              "        [ 3,  4]])]"
            ]
          },
          "metadata": {
            "tags": []
          },
          "execution_count": 142
        }
      ]
    },
    {
      "cell_type": "code",
      "metadata": {
        "id": "-IU5fz3ZQna5",
        "colab_type": "code",
        "outputId": "dff349a8-f733-4996-e9f7-9c2977608a47",
        "colab": {
          "base_uri": "https://localhost:8080/",
          "height": 50
        }
      },
      "source": [
        "hsvs[0]"
      ],
      "execution_count": 0,
      "outputs": [
        {
          "output_type": "execute_result",
          "data": {
            "text/plain": [
              "array([[20, 30],\n",
              "       [ 1,  2]])"
            ]
          },
          "metadata": {
            "tags": []
          },
          "execution_count": 145
        }
      ]
    },
    {
      "cell_type": "code",
      "metadata": {
        "id": "ED_jOCHNQ0-R",
        "colab_type": "code",
        "outputId": "6e0881b1-1343-46b8-b3c9-08e5b9a77028",
        "colab": {
          "base_uri": "https://localhost:8080/",
          "height": 34
        }
      },
      "source": [
        "vsvs = np.vsplit(vs,2)\n",
        "vsvs"
      ],
      "execution_count": 0,
      "outputs": [
        {
          "output_type": "execute_result",
          "data": {
            "text/plain": [
              "[array([[20, 30, 10, 40]]), array([[1, 2, 3, 4]])]"
            ]
          },
          "metadata": {
            "tags": []
          },
          "execution_count": 144
        }
      ]
    },
    {
      "cell_type": "code",
      "metadata": {
        "id": "Q4Oh8YSeQ69b",
        "colab_type": "code",
        "colab": {}
      },
      "source": [
        "dvs =  np.delete(vs,0)"
      ],
      "execution_count": 0,
      "outputs": []
    },
    {
      "cell_type": "code",
      "metadata": {
        "id": "TST0Xf_dTElh",
        "colab_type": "code",
        "outputId": "5a5e872b-25f4-4d26-8a98-b9b479eb0359",
        "colab": {
          "base_uri": "https://localhost:8080/",
          "height": 50
        }
      },
      "source": [
        "vs"
      ],
      "execution_count": 0,
      "outputs": [
        {
          "output_type": "execute_result",
          "data": {
            "text/plain": [
              "array([[20, 30, 10, 40],\n",
              "       [ 1,  2,  3,  4]])"
            ]
          },
          "metadata": {
            "tags": []
          },
          "execution_count": 147
        }
      ]
    },
    {
      "cell_type": "code",
      "metadata": {
        "id": "fDcyNM5WTH6p",
        "colab_type": "code",
        "outputId": "ea16d0f8-b1b6-4ef3-9530-72d698e6b2a7",
        "colab": {
          "base_uri": "https://localhost:8080/",
          "height": 34
        }
      },
      "source": [
        "dvs"
      ],
      "execution_count": 0,
      "outputs": [
        {
          "output_type": "execute_result",
          "data": {
            "text/plain": [
              "array([30, 10, 40,  1,  2,  3,  4])"
            ]
          },
          "metadata": {
            "tags": []
          },
          "execution_count": 149
        }
      ]
    },
    {
      "cell_type": "code",
      "metadata": {
        "id": "Id5G2-P_TO9h",
        "colab_type": "code",
        "colab": {}
      },
      "source": [
        "dvs =  np.delete(vs,2)"
      ],
      "execution_count": 0,
      "outputs": []
    },
    {
      "cell_type": "code",
      "metadata": {
        "id": "hiU9yNczTXuk",
        "colab_type": "code",
        "outputId": "5f687afe-157b-478f-cbbf-ea08da63c7a5",
        "colab": {
          "base_uri": "https://localhost:8080/",
          "height": 34
        }
      },
      "source": [
        "dvs"
      ],
      "execution_count": 0,
      "outputs": [
        {
          "output_type": "execute_result",
          "data": {
            "text/plain": [
              "array([20, 30, 40,  1,  2,  3,  4])"
            ]
          },
          "metadata": {
            "tags": []
          },
          "execution_count": 151
        }
      ]
    },
    {
      "cell_type": "code",
      "metadata": {
        "id": "5LZ5BcqOTYcM",
        "colab_type": "code",
        "outputId": "eb4e700c-d347-4902-90c0-6d1ee77da883",
        "colab": {
          "base_uri": "https://localhost:8080/",
          "height": 50
        }
      },
      "source": [
        "hsvs[0]"
      ],
      "execution_count": 0,
      "outputs": [
        {
          "output_type": "execute_result",
          "data": {
            "text/plain": [
              "array([[20, 30],\n",
              "       [ 1,  2]])"
            ]
          },
          "metadata": {
            "tags": []
          },
          "execution_count": 152
        }
      ]
    },
    {
      "cell_type": "code",
      "metadata": {
        "id": "hS6yQ0l5TiMS",
        "colab_type": "code",
        "colab": {}
      },
      "source": [
        "dhsvs = np.delete(hsvs[0],0,1)"
      ],
      "execution_count": 0,
      "outputs": []
    },
    {
      "cell_type": "code",
      "metadata": {
        "id": "PMCdwPOHTqxm",
        "colab_type": "code",
        "outputId": "533ef402-30c3-487c-8a39-711c2c954155",
        "colab": {
          "base_uri": "https://localhost:8080/",
          "height": 50
        }
      },
      "source": [
        "dhsvs"
      ],
      "execution_count": 0,
      "outputs": [
        {
          "output_type": "execute_result",
          "data": {
            "text/plain": [
              "array([[30],\n",
              "       [ 2]])"
            ]
          },
          "metadata": {
            "tags": []
          },
          "execution_count": 164
        }
      ]
    },
    {
      "cell_type": "code",
      "metadata": {
        "id": "U-eoPJHuTsU2",
        "colab_type": "code",
        "colab": {}
      },
      "source": [
        "ihsvs = np.insert(hsvs[0],4,500)"
      ],
      "execution_count": 0,
      "outputs": []
    },
    {
      "cell_type": "code",
      "metadata": {
        "id": "N7IaPb59UC6-",
        "colab_type": "code",
        "outputId": "e52d91e4-d38d-4a38-a321-21cff8bf9a1d",
        "colab": {
          "base_uri": "https://localhost:8080/",
          "height": 34
        }
      },
      "source": [
        "ihsvs"
      ],
      "execution_count": 0,
      "outputs": [
        {
          "output_type": "execute_result",
          "data": {
            "text/plain": [
              "array([ 20,  30,   1,   2, 500])"
            ]
          },
          "metadata": {
            "tags": []
          },
          "execution_count": 158
        }
      ]
    },
    {
      "cell_type": "code",
      "metadata": {
        "id": "PpExK9QnUEFO",
        "colab_type": "code",
        "outputId": "0a46600f-18bd-4531-c826-01a475f37781",
        "colab": {
          "base_uri": "https://localhost:8080/",
          "height": 34
        }
      },
      "source": [
        "dhsvs = np.delete(hsvs[0],2)\n",
        "dhsvs"
      ],
      "execution_count": 0,
      "outputs": [
        {
          "output_type": "execute_result",
          "data": {
            "text/plain": [
              "array([20, 30,  2])"
            ]
          },
          "metadata": {
            "tags": []
          },
          "execution_count": 160
        }
      ]
    },
    {
      "cell_type": "code",
      "metadata": {
        "id": "Crao4yuIUa0k",
        "colab_type": "code",
        "outputId": "8f160b52-506c-44ec-dc79-042d4f663987",
        "colab": {
          "base_uri": "https://localhost:8080/",
          "height": 34
        }
      },
      "source": [
        "a"
      ],
      "execution_count": 0,
      "outputs": [
        {
          "output_type": "execute_result",
          "data": {
            "text/plain": [
              "array([20, 30, 10, 40])"
            ]
          },
          "metadata": {
            "tags": []
          },
          "execution_count": 166
        }
      ]
    },
    {
      "cell_type": "code",
      "metadata": {
        "id": "LMI_sSObVYhQ",
        "colab_type": "code",
        "outputId": "62524e36-4d7f-4aac-b5ab-ca7c6a5b61c1",
        "colab": {
          "base_uri": "https://localhost:8080/",
          "height": 50
        }
      },
      "source": [
        "ra = np.resize(a,(2,3))\n",
        "ra"
      ],
      "execution_count": 0,
      "outputs": [
        {
          "output_type": "execute_result",
          "data": {
            "text/plain": [
              "array([[20, 30, 10],\n",
              "       [40, 20, 30]])"
            ]
          },
          "metadata": {
            "tags": []
          },
          "execution_count": 169
        }
      ]
    },
    {
      "cell_type": "code",
      "metadata": {
        "id": "8cUrzn3bVm_A",
        "colab_type": "code",
        "colab": {}
      },
      "source": [
        "aa = np.append(a,[10,20])"
      ],
      "execution_count": 0,
      "outputs": []
    },
    {
      "cell_type": "code",
      "metadata": {
        "id": "G9-wDSoqWGcU",
        "colab_type": "code",
        "outputId": "cdda468e-20e0-4032-f741-0c9c7e6e8567",
        "colab": {
          "base_uri": "https://localhost:8080/",
          "height": 34
        }
      },
      "source": [
        "aa"
      ],
      "execution_count": 0,
      "outputs": [
        {
          "output_type": "execute_result",
          "data": {
            "text/plain": [
              "array([20, 30, 10, 40, 10, 20])"
            ]
          },
          "metadata": {
            "tags": []
          },
          "execution_count": 171
        }
      ]
    },
    {
      "cell_type": "code",
      "metadata": {
        "id": "WmscnYfpWHoo",
        "colab_type": "code",
        "colab": {}
      },
      "source": [
        "np.savetxt()\n",
        "np.loadtxt()"
      ],
      "execution_count": 0,
      "outputs": []
    }
  ]
}