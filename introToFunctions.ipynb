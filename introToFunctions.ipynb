{
  "nbformat": 4,
  "nbformat_minor": 0,
  "metadata": {
    "colab": {
      "name": "introToFunctions.ipynb",
      "provenance": [],
      "collapsed_sections": []
    },
    "kernelspec": {
      "name": "python3",
      "display_name": "Python 3"
    }
  },
  "cells": [
    {
      "cell_type": "code",
      "metadata": {
        "id": "oJUxm55vRcj1",
        "colab_type": "code",
        "colab": {}
      },
      "source": [
        "def hello():\n",
        "    print(\"Hello World!\")"
      ],
      "execution_count": 0,
      "outputs": []
    },
    {
      "cell_type": "code",
      "metadata": {
        "id": "LRIemUpsSunj",
        "colab_type": "code",
        "outputId": "8bc51b33-2495-4eb3-c380-d42dce5bcacb",
        "colab": {
          "base_uri": "https://localhost:8080/",
          "height": 34
        }
      },
      "source": [
        "hello()"
      ],
      "execution_count": 0,
      "outputs": [
        {
          "output_type": "stream",
          "text": [
            "Hello World!\n"
          ],
          "name": "stdout"
        }
      ]
    },
    {
      "cell_type": "code",
      "metadata": {
        "id": "oWvrq28MS5Ao",
        "colab_type": "code",
        "colab": {}
      },
      "source": [
        "def summ(num1,num2=0):\n",
        "    return num1+num2"
      ],
      "execution_count": 0,
      "outputs": []
    },
    {
      "cell_type": "code",
      "metadata": {
        "id": "EGdU3B9iTE3C",
        "colab_type": "code",
        "outputId": "195416ee-f650-40bc-d489-d1034c8276d4",
        "colab": {
          "base_uri": "https://localhost:8080/",
          "height": 34
        }
      },
      "source": [
        "summ(10)"
      ],
      "execution_count": 0,
      "outputs": [
        {
          "output_type": "execute_result",
          "data": {
            "text/plain": [
              "10"
            ]
          },
          "metadata": {
            "tags": []
          },
          "execution_count": 24
        }
      ]
    },
    {
      "cell_type": "code",
      "metadata": {
        "id": "VuK2Gt_jTIzb",
        "colab_type": "code",
        "colab": {}
      },
      "source": [
        "a = summ(10.5,20)"
      ],
      "execution_count": 0,
      "outputs": []
    },
    {
      "cell_type": "code",
      "metadata": {
        "id": "uON0CQu2UiW2",
        "colab_type": "code",
        "outputId": "07df89e7-5890-4885-8c63-220c13179cc7",
        "colab": {
          "base_uri": "https://localhost:8080/",
          "height": 34
        }
      },
      "source": [
        "type(a)"
      ],
      "execution_count": 0,
      "outputs": [
        {
          "output_type": "execute_result",
          "data": {
            "text/plain": [
              "float"
            ]
          },
          "metadata": {
            "tags": []
          },
          "execution_count": 29
        }
      ]
    },
    {
      "cell_type": "code",
      "metadata": {
        "id": "qNhkOOgAUkNb",
        "colab_type": "code",
        "outputId": "a0ab7d28-27b4-44c1-df4d-55909fcf7ae8",
        "colab": {
          "base_uri": "https://localhost:8080/",
          "height": 34
        }
      },
      "source": [
        "print(a)"
      ],
      "execution_count": 0,
      "outputs": [
        {
          "output_type": "stream",
          "text": [
            "30.5\n"
          ],
          "name": "stdout"
        }
      ]
    },
    {
      "cell_type": "code",
      "metadata": {
        "id": "-9TZ0Oy-Uzjr",
        "colab_type": "code",
        "colab": {}
      },
      "source": [
        "var = 1000\n",
        "def add(*numbers):\n",
        "    var  = 0\n",
        "    for i in numbers:\n",
        "        var += i\n",
        "    return var"
      ],
      "execution_count": 0,
      "outputs": []
    },
    {
      "cell_type": "code",
      "metadata": {
        "id": "sp79uDA5WpCq",
        "colab_type": "code",
        "outputId": "d11a53ed-3455-4a09-8df1-865f396d1639",
        "colab": {
          "base_uri": "https://localhost:8080/",
          "height": 34
        }
      },
      "source": [
        "myfun = add(100,200,300)\n",
        "print(myfun)"
      ],
      "execution_count": 0,
      "outputs": [
        {
          "output_type": "stream",
          "text": [
            "600\n"
          ],
          "name": "stdout"
        }
      ]
    },
    {
      "cell_type": "code",
      "metadata": {
        "id": "rO4WzUIAWx7n",
        "colab_type": "code",
        "outputId": "b1de9f7e-f583-47c7-8215-e22e6dbed4e3",
        "colab": {
          "base_uri": "https://localhost:8080/",
          "height": 34
        }
      },
      "source": [
        "myfun2 = add(100,200,300,500,400,600)\n",
        "print(myfun2)"
      ],
      "execution_count": 0,
      "outputs": [
        {
          "output_type": "stream",
          "text": [
            "2100\n"
          ],
          "name": "stdout"
        }
      ]
    },
    {
      "cell_type": "code",
      "metadata": {
        "id": "qAuIUMPeW4_E",
        "colab_type": "code",
        "outputId": "9eda8034-46f7-419f-e039-7a02039fd1bc",
        "colab": {
          "base_uri": "https://localhost:8080/",
          "height": 67
        }
      },
      "source": [
        "li = [10,20,30]\n",
        "for i in li:\n",
        "    print(i)"
      ],
      "execution_count": 0,
      "outputs": [
        {
          "output_type": "stream",
          "text": [
            "10\n",
            "20\n",
            "30\n"
          ],
          "name": "stdout"
        }
      ]
    },
    {
      "cell_type": "code",
      "metadata": {
        "id": "8GgbHUUVXSCm",
        "colab_type": "code",
        "outputId": "d01acd3f-75df-449c-8067-e68fb24e86b5",
        "colab": {
          "base_uri": "https://localhost:8080/",
          "height": 34
        }
      },
      "source": [
        "myfun2 = add()\n",
        "print(myfun2)"
      ],
      "execution_count": 0,
      "outputs": [
        {
          "output_type": "stream",
          "text": [
            "0\n"
          ],
          "name": "stdout"
        }
      ]
    },
    {
      "cell_type": "code",
      "metadata": {
        "id": "8zEAU9nVX53s",
        "colab_type": "code",
        "outputId": "22909ed5-0ea5-4eb7-b09b-4b84e934d2cd",
        "colab": {
          "base_uri": "https://localhost:8080/",
          "height": 34
        }
      },
      "source": [
        "def even(mylist):\n",
        "    for i in mylist:\n",
        "        if i%2 == 0:\n",
        "            print(i)\n",
        "\n",
        "################\n",
        "test_li = [11,23,12,45,66,34]\n",
        "'''for j in even(test_li):\n",
        "    print(j)'''"
      ],
      "execution_count": 0,
      "outputs": [
        {
          "output_type": "execute_result",
          "data": {
            "text/plain": [
              "'for j in even(test_li):\\n    print(j)'"
            ]
          },
          "metadata": {
            "tags": []
          },
          "execution_count": 64
        }
      ]
    },
    {
      "cell_type": "code",
      "metadata": {
        "id": "U6eMCkO6aDF-",
        "colab_type": "code",
        "outputId": "f2e7ab5f-c298-4a95-bf55-1d8919ea147d",
        "colab": {
          "base_uri": "https://localhost:8080/",
          "height": 67
        }
      },
      "source": [
        "even(test_li)"
      ],
      "execution_count": 0,
      "outputs": [
        {
          "output_type": "stream",
          "text": [
            "12\n",
            "66\n",
            "34\n"
          ],
          "name": "stdout"
        }
      ]
    },
    {
      "cell_type": "code",
      "metadata": {
        "id": "_LX29qxoaHaV",
        "colab_type": "code",
        "outputId": "2bc96958-0c27-4455-cb0b-45c6d2a6a7d8",
        "colab": {
          "base_uri": "https://localhost:8080/",
          "height": 50
        }
      },
      "source": [
        "try:\n",
        "    print(10/0)\n",
        "\n",
        "except TypeError:\n",
        "    print(\"Can not divide by str\")\n",
        "\n",
        "except ZeroDivisionError:\n",
        "    print(\"0\")\n",
        "except NameError:\n",
        "    print(\"Unknown\")\n",
        "else:\n",
        "    print(\"ok tested\")\n",
        "finally:\n",
        "    print(\"test complete\")"
      ],
      "execution_count": 0,
      "outputs": [
        {
          "output_type": "stream",
          "text": [
            "0\n",
            "test complete\n"
          ],
          "name": "stdout"
        }
      ]
    },
    {
      "cell_type": "code",
      "metadata": {
        "id": "YNtmJAdbcL0g",
        "colab_type": "code",
        "colab": {}
      },
      "source": [
        ""
      ],
      "execution_count": 0,
      "outputs": []
    },
    {
      "cell_type": "code",
      "metadata": {
        "id": "bDJEFOcncRaN",
        "colab_type": "code",
        "colab": {}
      },
      "source": [
        ""
      ],
      "execution_count": 0,
      "outputs": []
    },
    {
      "cell_type": "code",
      "metadata": {
        "id": "ZgamWncjcfX3",
        "colab_type": "code",
        "colab": {}
      },
      "source": [
        ""
      ],
      "execution_count": 0,
      "outputs": []
    }
  ]
}