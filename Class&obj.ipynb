{
  "nbformat": 4,
  "nbformat_minor": 0,
  "metadata": {
    "colab": {
      "name": "Class&obj.ipynb",
      "provenance": []
    },
    "kernelspec": {
      "name": "python3",
      "display_name": "Python 3"
    }
  },
  "cells": [
    {
      "cell_type": "code",
      "metadata": {
        "id": "ir_XbwHOOs-2",
        "colab_type": "code",
        "colab": {}
      },
      "source": [
        "class Car:\n",
        "    def __init__(self, manufacturer,model,speed = 100):\n",
        "        self.manufacturer = manufacturer\n",
        "        self.model = model\n",
        "        self.speed = speed"
      ],
      "execution_count": 0,
      "outputs": []
    },
    {
      "cell_type": "code",
      "metadata": {
        "id": "NNrkDpg4SX-y",
        "colab_type": "code",
        "colab": {}
      },
      "source": [
        "mycar = Car(\"TATA\",\"Jaguar\",250)"
      ],
      "execution_count": 0,
      "outputs": []
    },
    {
      "cell_type": "code",
      "metadata": {
        "id": "s-Jb4_XgTlVZ",
        "colab_type": "code",
        "outputId": "013f13d8-2cb2-450a-ae24-47384d726007",
        "colab": {
          "base_uri": "https://localhost:8080/",
          "height": 34
        }
      },
      "source": [
        "mycar.manufacturer"
      ],
      "execution_count": 0,
      "outputs": [
        {
          "output_type": "execute_result",
          "data": {
            "text/plain": [
              "'TATA'"
            ]
          },
          "metadata": {
            "tags": []
          },
          "execution_count": 17
        }
      ]
    },
    {
      "cell_type": "code",
      "metadata": {
        "id": "zJyei5AgTrFB",
        "colab_type": "code",
        "outputId": "4cb6aa18-9f2a-4d9a-819a-d799fa19e805",
        "colab": {
          "base_uri": "https://localhost:8080/",
          "height": 34
        }
      },
      "source": [
        "mycar.model"
      ],
      "execution_count": 0,
      "outputs": [
        {
          "output_type": "execute_result",
          "data": {
            "text/plain": [
              "'Jaguar'"
            ]
          },
          "metadata": {
            "tags": []
          },
          "execution_count": 18
        }
      ]
    },
    {
      "cell_type": "code",
      "metadata": {
        "id": "ZZc9aRk9UCQt",
        "colab_type": "code",
        "outputId": "6d3118aa-b233-4c20-d74e-fcee55f89f27",
        "colab": {
          "base_uri": "https://localhost:8080/",
          "height": 34
        }
      },
      "source": [
        "mycar.speed"
      ],
      "execution_count": 0,
      "outputs": [
        {
          "output_type": "execute_result",
          "data": {
            "text/plain": [
              "250"
            ]
          },
          "metadata": {
            "tags": []
          },
          "execution_count": 19
        }
      ]
    },
    {
      "cell_type": "code",
      "metadata": {
        "id": "AbhRx_TRUElX",
        "colab_type": "code",
        "colab": {}
      },
      "source": [
        "mycar2 = Car(\"Tesla\",\"Model S\",200)"
      ],
      "execution_count": 0,
      "outputs": []
    },
    {
      "cell_type": "code",
      "metadata": {
        "id": "buUbh671UY4a",
        "colab_type": "code",
        "outputId": "a88c2a9c-fc00-419b-8155-3c3505e5657c",
        "colab": {
          "base_uri": "https://localhost:8080/",
          "height": 34
        }
      },
      "source": [
        "mycar2.manufacturer"
      ],
      "execution_count": 0,
      "outputs": [
        {
          "output_type": "execute_result",
          "data": {
            "text/plain": [
              "'Tesla'"
            ]
          },
          "metadata": {
            "tags": []
          },
          "execution_count": 21
        }
      ]
    },
    {
      "cell_type": "code",
      "metadata": {
        "id": "uvuT8nHmUbrx",
        "colab_type": "code",
        "outputId": "9c8b72e6-2651-487a-f9db-8b06b428fef2",
        "colab": {
          "base_uri": "https://localhost:8080/",
          "height": 34
        }
      },
      "source": [
        "mycar2.speed"
      ],
      "execution_count": 0,
      "outputs": [
        {
          "output_type": "execute_result",
          "data": {
            "text/plain": [
              "200"
            ]
          },
          "metadata": {
            "tags": []
          },
          "execution_count": 22
        }
      ]
    },
    {
      "cell_type": "code",
      "metadata": {
        "id": "y6HPPEl8Ud6l",
        "colab_type": "code",
        "outputId": "b8585232-b57d-4262-9e47-1301f0caacd1",
        "colab": {
          "base_uri": "https://localhost:8080/",
          "height": 34
        }
      },
      "source": [
        "mycar2.model"
      ],
      "execution_count": 0,
      "outputs": [
        {
          "output_type": "execute_result",
          "data": {
            "text/plain": [
              "'Model S'"
            ]
          },
          "metadata": {
            "tags": []
          },
          "execution_count": 23
        }
      ]
    },
    {
      "cell_type": "code",
      "metadata": {
        "id": "_qP4H__LUgVz",
        "colab_type": "code",
        "colab": {}
      },
      "source": [
        "mycar3 = Car(\"Mahindra\",\"Scorpio\")"
      ],
      "execution_count": 0,
      "outputs": []
    },
    {
      "cell_type": "code",
      "metadata": {
        "id": "uzAobWd3U97m",
        "colab_type": "code",
        "outputId": "265e6a7f-f100-4111-936a-f9b8229f1e85",
        "colab": {
          "base_uri": "https://localhost:8080/",
          "height": 34
        }
      },
      "source": [
        "mycar3.speed"
      ],
      "execution_count": 0,
      "outputs": [
        {
          "output_type": "execute_result",
          "data": {
            "text/plain": [
              "100"
            ]
          },
          "metadata": {
            "tags": []
          },
          "execution_count": 25
        }
      ]
    },
    {
      "cell_type": "code",
      "metadata": {
        "id": "MjGf2IGUVHrd",
        "colab_type": "code",
        "colab": {}
      },
      "source": [
        "class Car:\n",
        "    def __init__(self, manufacturer,model,speed = 100):\n",
        "        self.manufacturer = manufacturer\n",
        "        self.model = model\n",
        "        self.speed = speed\n",
        "    \n",
        "    def maintenance(self, boolean = False):\n",
        "        self.service = boolean\n",
        "        print(self.service)"
      ],
      "execution_count": 0,
      "outputs": []
    },
    {
      "cell_type": "code",
      "metadata": {
        "id": "BG11s3IHV2zG",
        "colab_type": "code",
        "colab": {}
      },
      "source": [
        "mycar4 = Car(\"Tesla\",\"Model S\",200)"
      ],
      "execution_count": 0,
      "outputs": []
    },
    {
      "cell_type": "code",
      "metadata": {
        "id": "YM_eGNuAV_li",
        "colab_type": "code",
        "outputId": "05a8753e-02f9-4476-9d89-de0cf84cfcb6",
        "colab": {
          "base_uri": "https://localhost:8080/",
          "height": 34
        }
      },
      "source": [
        "mycar4.maintenance(True)"
      ],
      "execution_count": 0,
      "outputs": [
        {
          "output_type": "stream",
          "text": [
            "True\n"
          ],
          "name": "stdout"
        }
      ]
    },
    {
      "cell_type": "code",
      "metadata": {
        "id": "RIyTu3_rWDsb",
        "colab_type": "code",
        "outputId": "c4cdfad5-1239-4bb2-d08e-7be8bed52aae",
        "colab": {
          "base_uri": "https://localhost:8080/",
          "height": 34
        }
      },
      "source": [
        "mycar4.maintenance()"
      ],
      "execution_count": 0,
      "outputs": [
        {
          "output_type": "stream",
          "text": [
            "False\n"
          ],
          "name": "stdout"
        }
      ]
    },
    {
      "cell_type": "code",
      "metadata": {
        "id": "lUcWlLHRWPnj",
        "colab_type": "code",
        "colab": {}
      },
      "source": [
        "mycar4.__init__(\"Tata\",\"Jaguar\",300)"
      ],
      "execution_count": 0,
      "outputs": []
    },
    {
      "cell_type": "code",
      "metadata": {
        "id": "H2NkKcLkW7tf",
        "colab_type": "code",
        "outputId": "6f6ee386-43b5-4502-a5ff-eeb3d9090395",
        "colab": {
          "base_uri": "https://localhost:8080/",
          "height": 34
        }
      },
      "source": [
        "mycar4.model"
      ],
      "execution_count": 0,
      "outputs": [
        {
          "output_type": "execute_result",
          "data": {
            "text/plain": [
              "'Jaguar'"
            ]
          },
          "metadata": {
            "tags": []
          },
          "execution_count": 41
        }
      ]
    },
    {
      "cell_type": "code",
      "metadata": {
        "id": "srq-prEkW9r5",
        "colab_type": "code",
        "colab": {}
      },
      "source": [
        "class Car:\n",
        "    def __init__(self, manufacturer,model,speed = 100):\n",
        "        self.manufacturer = manufacturer\n",
        "        self.model = model\n",
        "        self.speed = speed\n",
        "    def print_info(self):\n",
        "        print(\"Manufacturer =\",self.manufacturer,\" Model = \", self.model, \" Speed = \", self.speed)"
      ],
      "execution_count": 0,
      "outputs": []
    },
    {
      "cell_type": "code",
      "metadata": {
        "id": "D0URH-9qXwMy",
        "colab_type": "code",
        "colab": {}
      },
      "source": [
        "mycar5 = Car(\"Tesla\",\"Model X\",300)"
      ],
      "execution_count": 0,
      "outputs": []
    },
    {
      "cell_type": "code",
      "metadata": {
        "id": "fG4zdocXX2r6",
        "colab_type": "code",
        "outputId": "721fe1d8-61c1-40f1-ae29-8b466024f18f",
        "colab": {
          "base_uri": "https://localhost:8080/",
          "height": 34
        }
      },
      "source": [
        "mycar5.model"
      ],
      "execution_count": 0,
      "outputs": [
        {
          "output_type": "execute_result",
          "data": {
            "text/plain": [
              "'Model X'"
            ]
          },
          "metadata": {
            "tags": []
          },
          "execution_count": 50
        }
      ]
    },
    {
      "cell_type": "code",
      "metadata": {
        "id": "eByH22FSX5I0",
        "colab_type": "code",
        "outputId": "8e8f035a-3c86-4586-cffb-a5ef11d406b2",
        "colab": {
          "base_uri": "https://localhost:8080/",
          "height": 34
        }
      },
      "source": [
        "mycar5.speed"
      ],
      "execution_count": 0,
      "outputs": [
        {
          "output_type": "execute_result",
          "data": {
            "text/plain": [
              "300"
            ]
          },
          "metadata": {
            "tags": []
          },
          "execution_count": 51
        }
      ]
    },
    {
      "cell_type": "code",
      "metadata": {
        "id": "HKoqQhPDX7pw",
        "colab_type": "code",
        "outputId": "b990e60a-8bdf-4e54-e463-9a03654165bc",
        "colab": {
          "base_uri": "https://localhost:8080/",
          "height": 34
        }
      },
      "source": [
        "mycar5.print_info()"
      ],
      "execution_count": 0,
      "outputs": [
        {
          "output_type": "stream",
          "text": [
            "Manufacturer = Tesla  Model =  Model X  Speed =  300\n"
          ],
          "name": "stdout"
        }
      ]
    },
    {
      "cell_type": "code",
      "metadata": {
        "id": "n2f2tppDX-rC",
        "colab_type": "code",
        "colab": {}
      },
      "source": [
        "class Car:\n",
        "    amount_cars = 0\n",
        "    def __init__(self, manufacturer,model,speed = 100):\n",
        "        self.manufacturer = manufacturer\n",
        "        self.model = model\n",
        "        self.speed = speed\n",
        "        Car.amount_cars += 1\n",
        "    def car_num(self):\n",
        "        print(\"Number of cars = \", Car.amount_cars)"
      ],
      "execution_count": 0,
      "outputs": []
    },
    {
      "cell_type": "code",
      "metadata": {
        "id": "8GpWNCowY3lQ",
        "colab_type": "code",
        "colab": {}
      },
      "source": [
        "mycar = Car(\"TATA\",\"Jaguar\",250)\n",
        "mycar2 = Car(\"Tesla\",\"Model S\",200)\n",
        "mycar3 = Car(\"Mahindra\",\"Scorpio\",300)"
      ],
      "execution_count": 0,
      "outputs": []
    },
    {
      "cell_type": "code",
      "metadata": {
        "id": "K1DAe2nwZC8N",
        "colab_type": "code",
        "outputId": "bdf03c74-1c5b-4c2c-ca74-57803dbb102a",
        "colab": {
          "base_uri": "https://localhost:8080/",
          "height": 34
        }
      },
      "source": [
        "mycar.amount_cars"
      ],
      "execution_count": 0,
      "outputs": [
        {
          "output_type": "execute_result",
          "data": {
            "text/plain": [
              "9"
            ]
          },
          "metadata": {
            "tags": []
          },
          "execution_count": 67
        }
      ]
    },
    {
      "cell_type": "code",
      "metadata": {
        "id": "l2Q8PcoHZMtg",
        "colab_type": "code",
        "colab": {}
      },
      "source": [
        "mycar4 = Car(\"Mahindra\",\"Scorpio\",300)"
      ],
      "execution_count": 0,
      "outputs": []
    },
    {
      "cell_type": "code",
      "metadata": {
        "id": "gU5wzeqMZVkP",
        "colab_type": "code",
        "colab": {}
      },
      "source": [
        "class Car:\n",
        "    amount_cars = 0\n",
        "    def __init__(self, manufacturer,model,speed = 100):\n",
        "        self.manufacturer = manufacturer\n",
        "        self.model = model\n",
        "        self.speed = speed\n",
        "        Car.amount_cars += 1\n",
        "    def car_num(self):\n",
        "        print(\"Number of cars = \", Car.amount_cars)\n",
        "    def __del__(self):\n",
        "        print(\"Object has been deleted successfully!\")\n",
        "        Car.amount_cars -= 1"
      ],
      "execution_count": 0,
      "outputs": []
    },
    {
      "cell_type": "code",
      "metadata": {
        "id": "gBYWVNq3bXU9",
        "colab_type": "code",
        "colab": {}
      },
      "source": [
        "mycar = Car(\"TATA\",\"Jaguar\",250)\n",
        "mycar2 = Car(\"Tesla\",\"Model S\",200)"
      ],
      "execution_count": 0,
      "outputs": []
    },
    {
      "cell_type": "code",
      "metadata": {
        "id": "LPnjQ10bbaLH",
        "colab_type": "code",
        "outputId": "1ea0c1cb-7416-4280-bc9c-c7347d187ceb",
        "colab": {
          "base_uri": "https://localhost:8080/",
          "height": 34
        }
      },
      "source": [
        "mycar.model"
      ],
      "execution_count": 0,
      "outputs": [
        {
          "output_type": "execute_result",
          "data": {
            "text/plain": [
              "'Jaguar'"
            ]
          },
          "metadata": {
            "tags": []
          },
          "execution_count": 12
        }
      ]
    },
    {
      "cell_type": "code",
      "metadata": {
        "id": "QOkJa13nbcoW",
        "colab_type": "code",
        "outputId": "0e480a13-982e-409f-e87d-017de6b9dd0d",
        "colab": {
          "base_uri": "https://localhost:8080/",
          "height": 34
        }
      },
      "source": [
        "mycar.amount_cars"
      ],
      "execution_count": 0,
      "outputs": [
        {
          "output_type": "execute_result",
          "data": {
            "text/plain": [
              "2"
            ]
          },
          "metadata": {
            "tags": []
          },
          "execution_count": 13
        }
      ]
    },
    {
      "cell_type": "code",
      "metadata": {
        "id": "K5fttWnBb7EP",
        "colab_type": "code",
        "outputId": "d5789753-73a7-441c-8ef1-3c99f668ae70",
        "colab": {
          "base_uri": "https://localhost:8080/",
          "height": 34
        }
      },
      "source": [
        "del mycar2"
      ],
      "execution_count": 0,
      "outputs": [
        {
          "output_type": "stream",
          "text": [
            "Object has been deleted successfully!\n"
          ],
          "name": "stdout"
        }
      ]
    },
    {
      "cell_type": "code",
      "metadata": {
        "id": "eANra0Mqbibx",
        "colab_type": "code",
        "outputId": "7dd6bf0c-dbf2-46a9-f503-89a20d219c8d",
        "colab": {
          "base_uri": "https://localhost:8080/",
          "height": 34
        }
      },
      "source": [
        "mycar.amount_cars"
      ],
      "execution_count": 0,
      "outputs": [
        {
          "output_type": "execute_result",
          "data": {
            "text/plain": [
              "1"
            ]
          },
          "metadata": {
            "tags": []
          },
          "execution_count": 15
        }
      ]
    },
    {
      "cell_type": "code",
      "metadata": {
        "id": "GWOH9ogxb_JM",
        "colab_type": "code",
        "outputId": "0303e969-1b78-4189-dd46-95aa2b4c4149",
        "colab": {
          "base_uri": "https://localhost:8080/",
          "height": 162
        }
      },
      "source": [
        "mycar2.model"
      ],
      "execution_count": 0,
      "outputs": [
        {
          "output_type": "error",
          "ename": "NameError",
          "evalue": "ignored",
          "traceback": [
            "\u001b[0;31m---------------------------------------------------------------------------\u001b[0m",
            "\u001b[0;31mNameError\u001b[0m                                 Traceback (most recent call last)",
            "\u001b[0;32m<ipython-input-17-2ca2ea4e1dd7>\u001b[0m in \u001b[0;36m<module>\u001b[0;34m()\u001b[0m\n\u001b[0;32m----> 1\u001b[0;31m \u001b[0mmycar2\u001b[0m\u001b[0;34m.\u001b[0m\u001b[0mmodel\u001b[0m\u001b[0;34m\u001b[0m\u001b[0;34m\u001b[0m\u001b[0m\n\u001b[0m",
            "\u001b[0;31mNameError\u001b[0m: name 'mycar2' is not defined"
          ]
        }
      ]
    },
    {
      "cell_type": "code",
      "metadata": {
        "id": "Z85YBQTWcDAO",
        "colab_type": "code",
        "colab": {}
      },
      "source": [
        "class Myclass:\n",
        "    def __init__(self):\n",
        "        self.var = \"My visible variable!\"\n",
        "        self.__var2 = 'Hello World!'\n",
        "        print(self.__var2,self.var)\n",
        "    def summm(self):\n",
        "        print(self.__var2)"
      ],
      "execution_count": 0,
      "outputs": []
    },
    {
      "cell_type": "code",
      "metadata": {
        "id": "AQ5zmhjwdWM3",
        "colab_type": "code",
        "outputId": "39f115aa-e5cb-4b2f-c157-f28578becf43",
        "colab": {
          "base_uri": "https://localhost:8080/",
          "height": 34
        }
      },
      "source": [
        "obj1 = Myclass()"
      ],
      "execution_count": 0,
      "outputs": [
        {
          "output_type": "stream",
          "text": [
            "Hello World! My visible variable!\n"
          ],
          "name": "stdout"
        }
      ]
    },
    {
      "cell_type": "code",
      "metadata": {
        "id": "3VZctSgfdcjT",
        "colab_type": "code",
        "outputId": "3d4d9ec6-2bd2-410e-8232-803cb05bfac7",
        "colab": {
          "base_uri": "https://localhost:8080/",
          "height": 162
        }
      },
      "source": [
        "print(obj1.__var2)"
      ],
      "execution_count": 0,
      "outputs": [
        {
          "output_type": "error",
          "ename": "AttributeError",
          "evalue": "ignored",
          "traceback": [
            "\u001b[0;31m---------------------------------------------------------------------------\u001b[0m",
            "\u001b[0;31mAttributeError\u001b[0m                            Traceback (most recent call last)",
            "\u001b[0;32m<ipython-input-33-16df6e93cf82>\u001b[0m in \u001b[0;36m<module>\u001b[0;34m()\u001b[0m\n\u001b[0;32m----> 1\u001b[0;31m \u001b[0mprint\u001b[0m\u001b[0;34m(\u001b[0m\u001b[0mobj1\u001b[0m\u001b[0;34m.\u001b[0m\u001b[0m__var2\u001b[0m\u001b[0;34m)\u001b[0m\u001b[0;34m\u001b[0m\u001b[0;34m\u001b[0m\u001b[0m\n\u001b[0m",
            "\u001b[0;31mAttributeError\u001b[0m: 'Myclass' object has no attribute '__var2'"
          ]
        }
      ]
    },
    {
      "cell_type": "code",
      "metadata": {
        "id": "mKBeT4Eod7oS",
        "colab_type": "code",
        "outputId": "f2449395-be55-4267-ff80-56e4b50d3116",
        "colab": {
          "base_uri": "https://localhost:8080/",
          "height": 34
        }
      },
      "source": [
        "print(obj1.var)"
      ],
      "execution_count": 0,
      "outputs": [
        {
          "output_type": "stream",
          "text": [
            "My visible variable!\n"
          ],
          "name": "stdout"
        }
      ]
    },
    {
      "cell_type": "code",
      "metadata": {
        "id": "CgfVrLZKe11x",
        "colab_type": "code",
        "outputId": "b6bbabde-42e4-4e6b-866e-32bb0197d2f1",
        "colab": {
          "base_uri": "https://localhost:8080/",
          "height": 34
        }
      },
      "source": [
        "obj1.summm()"
      ],
      "execution_count": 0,
      "outputs": [
        {
          "output_type": "stream",
          "text": [
            "Hello World!\n"
          ],
          "name": "stdout"
        }
      ]
    },
    {
      "cell_type": "code",
      "metadata": {
        "id": "0k1KY-sEf-fi",
        "colab_type": "code",
        "colab": {}
      },
      "source": [
        ""
      ],
      "execution_count": 0,
      "outputs": []
    }
  ]
}